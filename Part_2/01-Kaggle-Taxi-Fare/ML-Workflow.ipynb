{
 "cells": [
  {
   "cell_type": "markdown",
   "metadata": {},
   "source": [
    "# ML Workflow"
   ]
  },
  {
   "cell_type": "markdown",
   "metadata": {},
   "source": [
    "The objective of this exercise is to use the tools and methods that you learned during the previous weeks, in order to solve a **real challenge**.\n",
    "\n",
    "The problem to solve is a **Kaggle Competition**: [New York City Taxi Fare Prediction](https://www.kaggle.com/c/new-york-city-taxi-fare-prediction). The goal is to predict the fare amount (inclusive of tolls) for a taxi ride in New York City given the pickup and dropoff locations."
   ]
  },
  {
   "cell_type": "markdown",
   "metadata": {},
   "source": [
    "Building a machine learning model requires a few different steps."
   ]
  },
  {
   "cell_type": "markdown",
   "metadata": {},
   "source": [
    "## Steps\n",
    "1. Get the data\n",
    "2. Explore the data\n",
    "3. Data cleaning\n",
    "4. Evaluation metric\n",
    "5. Model baseline\n",
    "6. Build your first model\n",
    "7. Model evaluation\n",
    "8. Kaggle submission\n",
    "9. Model iteration"
   ]
  },
  {
   "cell_type": "markdown",
   "metadata": {},
   "source": [
    "## 1. Get the data <a id='part1'></a>"
   ]
  },
  {
   "cell_type": "markdown",
   "metadata": {},
   "source": [
    "The dataset is available on [Kaggle](https://www.kaggle.com/c/new-york-city-taxi-fare-prediction/data).\n",
    "\n",
    "First of all:\n",
    "- Follow the instructions to download the training and test sets\n",
    "- Put the datasets in a separate folder on your local disk. You can name it \"data\" for example."
   ]
  },
  {
   "cell_type": "markdown",
   "metadata": {},
   "source": [
    "Now we are going to use Pandas to read and explore the datasets."
   ]
  },
  {
   "cell_type": "code",
   "execution_count": 1,
   "metadata": {},
   "outputs": [],
   "source": [
    "import pandas as pd"
   ]
  },
  {
   "cell_type": "markdown",
   "metadata": {},
   "source": [
    "The training dataset is relatively big (~5GB).\n",
    "So let's only open a portion of it.\n",
    "👉 Go to [Pandas documentation](https://pandas.pydata.org/pandas-docs/stable/) to see how to open a portion of CSV file and store it into a DataFrame (ex: just read 1 million rows maximum)\n",
    "\n",
    "💡 NB: here we will read portion of the file\n",
    "\n"
   ]
  },
  {
   "cell_type": "code",
   "execution_count": 2,
   "metadata": {},
   "outputs": [],
   "source": [
    "data = pd.read_csv(\"data/train.csv\", nrows=1000000)"
   ]
  },
  {
   "cell_type": "markdown",
   "metadata": {},
   "source": [
    "Now let's display the first rows to understand the different fields "
   ]
  },
  {
   "cell_type": "code",
   "execution_count": 3,
   "metadata": {},
   "outputs": [
    {
     "name": "stdout",
     "output_type": "stream",
     "text": [
      "                             key  fare_amount          pickup_datetime  \\\n",
      "0    2009-06-15 17:26:21.0000001          4.5  2009-06-15 17:26:21 UTC   \n",
      "1    2010-01-05 16:52:16.0000002         16.9  2010-01-05 16:52:16 UTC   \n",
      "2   2011-08-18 00:35:00.00000049          5.7  2011-08-18 00:35:00 UTC   \n",
      "3    2012-04-21 04:30:42.0000001          7.7  2012-04-21 04:30:42 UTC   \n",
      "4  2010-03-09 07:51:00.000000135          5.3  2010-03-09 07:51:00 UTC   \n",
      "\n",
      "   pickup_longitude  pickup_latitude  dropoff_longitude  dropoff_latitude  \\\n",
      "0        -73.844311        40.721319         -73.841610         40.712278   \n",
      "1        -74.016048        40.711303         -73.979268         40.782004   \n",
      "2        -73.982738        40.761270         -73.991242         40.750562   \n",
      "3        -73.987130        40.733143         -73.991567         40.758092   \n",
      "4        -73.968095        40.768008         -73.956655         40.783762   \n",
      "\n",
      "   passenger_count  \n",
      "0                1  \n",
      "1                1  \n",
      "2                2  \n",
      "3                1  \n",
      "4                1  \n"
     ]
    }
   ],
   "source": [
    "print(data.head())"
   ]
  },
  {
   "cell_type": "markdown",
   "metadata": {},
   "source": [
    "## 2. Explore the data <a id='part2'></a>"
   ]
  },
  {
   "cell_type": "markdown",
   "metadata": {},
   "source": [
    "Before trying to solve the prediction problem, we need to get a better understanding of the data.\n",
    "In order to do that, we are going to use libraries such as Pandas and Seaborn.\n",
    "First of all, make sure you have [Seaborn](https://seaborn.pydata.org/) installed and import it into your notebook.\n",
    "Note that it can also be useful to import `matplotlib.pyplot` in order to customize a few things."
   ]
  },
  {
   "cell_type": "code",
   "execution_count": 4,
   "metadata": {},
   "outputs": [
    {
     "data": {
      "text/plain": [
       "<Figure size 864x360 with 0 Axes>"
      ]
     },
     "metadata": {},
     "output_type": "display_data"
    }
   ],
   "source": [
    "import seaborn as sns\n",
    "import matplotlib.pyplot as plt\n",
    "\n",
    "plt.style.use('fivethirtyeight')\n",
    "plt.rcParams['font.size'] = 14\n",
    "plt.figure(figsize=(12,5))\n",
    "palette = sns.color_palette('Paired', 10)"
   ]
  },
  {
   "cell_type": "markdown",
   "metadata": {},
   "source": [
    "### There are multiple things we want to do in terms of data exploration\n",
    "\n",
    "- You first want to look at the distribution of the variable that you are going to predict: \"fare_amount\"\n",
    "- Then you want to visualize other variable distributions\n",
    "- And finally it is often very helpful to compute and visualize the correlation between the target variable and other variables\n",
    "- Also, lets look for any missing values, or other irregularities"
   ]
  },
  {
   "cell_type": "markdown",
   "metadata": {},
   "source": [
    "### Explore the target variable\n",
    "- Compute simple statistics for the target variable (min, max, mean, std, etc)\n",
    "- Plot distributions"
   ]
  },
  {
   "cell_type": "code",
   "execution_count": 5,
   "metadata": {},
   "outputs": [
    {
     "name": "stdout",
     "output_type": "stream",
     "text": [
      "count    1000000.000000\n",
      "mean          11.348079\n",
      "std            9.822090\n",
      "min          -44.900000\n",
      "25%            6.000000\n",
      "50%            8.500000\n",
      "75%           12.500000\n",
      "max          500.000000\n",
      "Name: fare_amount, dtype: float64\n"
     ]
    }
   ],
   "source": [
    "print(data[\"fare_amount\"].describe())"
   ]
  },
  {
   "cell_type": "code",
   "execution_count": 6,
   "metadata": {},
   "outputs": [
    {
     "name": "stderr",
     "output_type": "stream",
     "text": [
      "/tmp/ipykernel_20317/515728147.py:2: UserWarning: \n",
      "\n",
      "`distplot` is a deprecated function and will be removed in seaborn v0.14.0.\n",
      "\n",
      "Please adapt your code to use either `displot` (a figure-level function with\n",
      "similar flexibility) or `histplot` (an axes-level function for histograms).\n",
      "\n",
      "For a guide to updating your code to use the new functions, please see\n",
      "https://gist.github.com/mwaskom/de44147ed2974457ad6372750bbe5751\n",
      "\n",
      "  sns.distplot(series)\n"
     ]
    },
    {
     "data": {
      "image/png": "[encoded data removed]",
      "text/plain": [
       "<Figure size 432x288 with 1 Axes>"
      ]
     },
     "metadata": {
      "needs_background": "light"
     },
     "output_type": "display_data"
    }
   ],
   "source": [
    "def plot_dist(series=data[\"fare_amount\"], title=\"Fare Distribution\"):\n",
    "    sns.distplot(series)\n",
    "    \n",
    "plot_dist()"
   ]
  },
  {
   "cell_type": "code",
   "execution_count": 7,
   "metadata": {},
   "outputs": [
    {
     "name": "stderr",
     "output_type": "stream",
     "text": [
      "/tmp/ipykernel_20317/515728147.py:2: UserWarning: \n",
      "\n",
      "`distplot` is a deprecated function and will be removed in seaborn v0.14.0.\n",
      "\n",
      "Please adapt your code to use either `displot` (a figure-level function with\n",
      "similar flexibility) or `histplot` (an axes-level function for histograms).\n",
      "\n",
      "For a guide to updating your code to use the new functions, please see\n",
      "https://gist.github.com/mwaskom/de44147ed2974457ad6372750bbe5751\n",
      "\n",
      "  sns.distplot(series)\n"
     ]
    },
    {
     "data": {
      "image/png": "[encoded data removed]",
      "text/plain": [
       "<Figure size 432x288 with 1 Axes>"
      ]
     },
     "metadata": {
      "needs_background": "light"
     },
     "output_type": "display_data"
    }
   ],
   "source": [
    "# drop absurd values \n",
    "data = data[data.fare_amount.between(0, 60)]\n",
    "plot_dist(data.fare_amount)"
   ]
  },
  {
   "cell_type": "code",
   "execution_count": 8,
   "metadata": {},
   "outputs": [],
   "source": [
    "import numpy as np \n",
    "\n",
    "# we can also visualize binned fare_amount variable\n",
    "data['fare-bin'] = pd.cut(data['fare_amount'], bins = list(range(0, 50, 5)), include_lowest=True).astype('str')\n",
    "\n",
    "# uppermost bin\n",
    "data['fare-bin'] = data['fare-bin'].replace(np.nan, '[45+]')\n",
    "# df.loc[df['fare-bin'] == 'nan', 'fare-bin'] = '[45+]'\n",
    "\n",
    "# apply this to clean up the label of the first bin\n",
    "data['fare-bin'] = data['fare-bin'].apply(lambda x: x.replace('-0.001', '0'))\n",
    "\n",
    "# sort by fare the correct look in the chart\n",
    "data = data.sort_values(by='fare_amount')"
   ]
  },
  {
   "cell_type": "code",
   "execution_count": 9,
   "metadata": {},
   "outputs": [
    {
     "data": {
      "image/png": "[encoded data removed]",
      "text/plain": [
       "<Figure size 1080x360 with 1 Axes>"
      ]
     },
     "metadata": {
      "needs_background": "light"
     },
     "output_type": "display_data"
    }
   ],
   "source": [
    "sns.catplot(x=\"fare-bin\", kind=\"count\", palette=palette, data=data, height=5, aspect=3);\n",
    "sns.despine()\n",
    "plt.show()"
   ]
  },
  {
   "cell_type": "markdown",
   "metadata": {},
   "source": [
    "### Explore other variables\n",
    "\n",
    "- passenger_count (statistics + distribution)\n",
    "- pickup_datetime (you need to build time features out of the pickup datetime)\n",
    "- Geospatial features (pickup_longitude, pickup_latitude, dropoff_longitude, dropoff_latitude)\n",
    "- Find other variables that you can compute from existing data and that might explain the target"
   ]
  },
  {
   "cell_type": "markdown",
   "metadata": {},
   "source": [
    "#### Passenger Count"
   ]
  },
  {
   "cell_type": "code",
   "execution_count": 10,
   "metadata": {},
   "outputs": [
    {
     "name": "stdout",
     "output_type": "stream",
     "text": [
      "count    997297.000000\n",
      "mean          1.685096\n",
      "std           1.324201\n",
      "min           0.000000\n",
      "25%           1.000000\n",
      "50%           1.000000\n",
      "75%           2.000000\n",
      "max         208.000000\n",
      "Name: passenger_count, dtype: float64\n"
     ]
    },
    {
     "name": "stderr",
     "output_type": "stream",
     "text": [
      "/tmp/ipykernel_20317/515728147.py:2: UserWarning: \n",
      "\n",
      "`distplot` is a deprecated function and will be removed in seaborn v0.14.0.\n",
      "\n",
      "Please adapt your code to use either `displot` (a figure-level function with\n",
      "similar flexibility) or `histplot` (an axes-level function for histograms).\n",
      "\n",
      "For a guide to updating your code to use the new functions, please see\n",
      "https://gist.github.com/mwaskom/de44147ed2974457ad6372750bbe5751\n",
      "\n",
      "  sns.distplot(series)\n"
     ]
    },
    {
     "data": {
      "image/png": "[encoded data removed]",
      "text/plain": [
       "<Figure size 432x288 with 1 Axes>"
      ]
     },
     "metadata": {
      "needs_background": "light"
     },
     "output_type": "display_data"
    }
   ],
   "source": [
    "print(data[\"passenger_count\"].describe())\n",
    "plot_dist(data[\"passenger_count\"])"
   ]
  },
  {
   "cell_type": "code",
   "execution_count": 11,
   "metadata": {},
   "outputs": [
    {
     "name": "stderr",
     "output_type": "stream",
     "text": [
      "/tmp/ipykernel_20317/515728147.py:2: UserWarning: \n",
      "\n",
      "`distplot` is a deprecated function and will be removed in seaborn v0.14.0.\n",
      "\n",
      "Please adapt your code to use either `displot` (a figure-level function with\n",
      "similar flexibility) or `histplot` (an axes-level function for histograms).\n",
      "\n",
      "For a guide to updating your code to use the new functions, please see\n",
      "https://gist.github.com/mwaskom/de44147ed2974457ad6372750bbe5751\n",
      "\n",
      "  sns.distplot(series)\n"
     ]
    },
    {
     "data": {
      "image/png": "[encoded data removed]",
      "text/plain": [
       "<Figure size 432x288 with 1 Axes>"
      ]
     },
     "metadata": {
      "needs_background": "light"
     },
     "output_type": "display_data"
    }
   ],
   "source": [
    "# On enlève les valeurs aberrantes pour passenger_count :\n",
    "data = data[data[\"passenger_count\"].between(0, 12)]\n",
    "plot_dist(data[\"passenger_count\"])"
   ]
  },
  {
   "cell_type": "markdown",
   "metadata": {},
   "source": [
    "#### Pickup Datetime\n",
    "\n",
    "- Extract time features from pickup_datetime (hour, day of week, month, year)\n",
    "- Create a method `def extract_time_features(_df)` that you will be able to re-use later\n",
    "- Be careful with the timezone\n",
    "- Explore the newly created features "
   ]
  },
  {
   "cell_type": "code",
   "execution_count": 12,
   "metadata": {},
   "outputs": [],
   "source": [
    "def extract_time_features(df):\n",
    "    df[\"pickup_datetime\"] = pd.to_datetime(df[\"pickup_datetime\"], \n",
    "                                           infer_datetime_format=True\n",
    "                                      )\n",
    "    df[\"pickup_datetime\"] = df[\"pickup_datetime\"].dt.tz_convert(\"US/Eastern\")\n",
    "    df[\"hour\"] = df[\"pickup_datetime\"].dt.hour\n",
    "    df[\"weekday\"] = df[\"pickup_datetime\"].dt.dayofweek\n",
    "    df[\"month\"] = df[\"pickup_datetime\"].dt.month\n",
    "    df[\"year\"] = df[\"pickup_datetime\"].dt.year\n",
    "    return df\n"
   ]
  },
  {
   "cell_type": "code",
   "execution_count": 13,
   "metadata": {},
   "outputs": [
    {
     "name": "stdout",
     "output_type": "stream",
     "text": [
      "CPU times: user 14.7 s, sys: 48.1 ms, total: 14.8 s\n",
      "Wall time: 14.8 s\n"
     ]
    }
   ],
   "source": [
    "%%time\n",
    "data = extract_time_features(data)"
   ]
  },
  {
   "cell_type": "code",
   "execution_count": 14,
   "metadata": {},
   "outputs": [
    {
     "data": {
      "image/png": "[encoded data removed]",
      "text/plain": [
       "<Figure size 1080x360 with 1 Axes>"
      ]
     },
     "metadata": {
      "needs_background": "light"
     },
     "output_type": "display_data"
    }
   ],
   "source": [
    "# Plot hour of day\n",
    "sns.catplot(x=\"hour\", kind=\"count\", palette=palette, data=data, height=5, aspect=3);\n",
    "sns.despine()\n",
    "plt.title('Hour of Day');\n",
    "plt.show()"
   ]
  },
  {
   "cell_type": "code",
   "execution_count": 15,
   "metadata": {},
   "outputs": [
    {
     "data": {
      "image/png": "[encoded data removed]",
      "text/plain": [
       "<Figure size 1080x360 with 1 Axes>"
      ]
     },
     "metadata": {
      "needs_background": "light"
     },
     "output_type": "display_data"
    }
   ],
   "source": [
    "# Plot  day of week\n",
    "sns.catplot(x=\"weekday\", kind=\"count\", palette=palette, data=data, height=5, aspect=3);\n",
    "sns.despine()\n",
    "plt.title('Day of Week');\n",
    "plt.show()"
   ]
  },
  {
   "cell_type": "markdown",
   "metadata": {},
   "source": [
    "#### Pickup and Dropoff locations\n",
    "\n",
    "- Look at the outliers\n",
    "- Only keep the observations where the rides occur around New York City\n",
    "- Create a timed heatmap for the rides using Folium"
   ]
  },
  {
   "cell_type": "code",
   "execution_count": 16,
   "metadata": {},
   "outputs": [],
   "source": [
    "data_test = pd.read_csv(\"./data/test.csv\")"
   ]
  },
  {
   "cell_type": "code",
   "execution_count": 17,
   "metadata": {},
   "outputs": [
    {
     "name": "stdout",
     "output_type": "stream",
     "text": [
      "                              key           pickup_datetime  pickup_longitude  \\\n",
      "0     2015-01-27 13:08:24.0000002 2015-01-27 08:08:24-05:00        -73.973320   \n",
      "1     2015-01-27 13:08:24.0000003 2015-01-27 08:08:24-05:00        -73.986862   \n",
      "2     2011-10-08 11:53:44.0000002 2011-10-08 07:53:44-04:00        -73.982524   \n",
      "3     2012-12-01 21:12:12.0000002 2012-12-01 16:12:12-05:00        -73.981160   \n",
      "4     2012-12-01 21:12:12.0000003 2012-12-01 16:12:12-05:00        -73.966046   \n",
      "...                           ...                       ...               ...   \n",
      "9909  2015-05-10 12:37:51.0000002 2015-05-10 08:37:51-04:00        -73.968124   \n",
      "9910  2015-01-12 17:05:51.0000001 2015-01-12 12:05:51-05:00        -73.945511   \n",
      "9911  2015-04-19 20:44:15.0000001 2015-04-19 16:44:15-04:00        -73.991600   \n",
      "9912  2015-01-31 01:05:19.0000005 2015-01-30 20:05:19-05:00        -73.985573   \n",
      "9913  2015-01-18 14:06:23.0000006 2015-01-18 09:06:23-05:00        -73.988022   \n",
      "\n",
      "      pickup_latitude  dropoff_longitude  dropoff_latitude  passenger_count  \\\n",
      "0           40.763805         -73.981430         40.743835                1   \n",
      "1           40.719383         -73.998886         40.739201                1   \n",
      "2           40.751260         -73.979654         40.746139                1   \n",
      "3           40.767807         -73.990448         40.751635                1   \n",
      "4           40.789775         -73.988565         40.744427                1   \n",
      "...               ...                ...               ...              ...   \n",
      "9909        40.796997         -73.955643         40.780388                6   \n",
      "9910        40.803600         -73.960213         40.776371                6   \n",
      "9911        40.726608         -73.789742         40.647011                6   \n",
      "9912        40.735432         -73.939178         40.801731                6   \n",
      "9913        40.754070         -74.000282         40.759220                6   \n",
      "\n",
      "      hour  weekday  month  year  \n",
      "0        8        1      1  2015  \n",
      "1        8        1      1  2015  \n",
      "2        7        5     10  2011  \n",
      "3       16        5     12  2012  \n",
      "4       16        5     12  2012  \n",
      "...    ...      ...    ...   ...  \n",
      "9909     8        6      5  2015  \n",
      "9910    12        0      1  2015  \n",
      "9911    16        6      4  2015  \n",
      "9912    20        4      1  2015  \n",
      "9913     9        6      1  2015  \n",
      "\n",
      "[9914 rows x 11 columns]\n"
     ]
    }
   ],
   "source": [
    "data_test = extract_time_features(data_test)\n",
    "print(data_test)"
   ]
  },
  {
   "cell_type": "code",
   "execution_count": 18,
   "metadata": {},
   "outputs": [
    {
     "name": "stdout",
     "output_type": "stream",
     "text": [
      "pickup_latitude 40.573143 41.709555\n",
      "pickup_longitude -74.252193 -72.986532\n",
      "dropoff_latitude 40.568973 41.696683\n",
      "dropoff_longitude -74.263242 -72.990963\n"
     ]
    }
   ],
   "source": [
    "# find the boundaries from the test set and remove the outliers from the training set\n",
    "for col in [\"pickup_latitude\", \"pickup_longitude\", \"dropoff_latitude\", \"dropoff_longitude\"]:\n",
    "    MIN = data_test[col].min()\n",
    "    MAX = data_test[col].max()\n",
    "    print(col, MIN, MAX)"
   ]
  },
  {
   "cell_type": "code",
   "execution_count": 19,
   "metadata": {},
   "outputs": [],
   "source": [
    "data = data[data[\"pickup_latitude\"].between(left = 40, right = 42 )]\n",
    "data = data[data[\"pickup_longitude\"].between(left = -74.3, right = -72.9 )]\n",
    "data = data[data[\"dropoff_latitude\"].between(left = 40, right = 42 )]\n",
    "data = data[data[\"dropoff_longitude\"].between(left = -74, right = -72.9 )]"
   ]
  },
  {
   "cell_type": "code",
   "execution_count": 20,
   "metadata": {},
   "outputs": [
    {
     "name": "stdout",
     "output_type": "stream",
     "text": [
      "Defaulting to user installation because normal site-packages is not writeable\n",
      "Requirement already satisfied: folium in /home/vincent/.local/lib/python3.10/site-packages (0.14.0)\n",
      "Requirement already satisfied: jinja2>=2.9 in /usr/lib/python3/dist-packages (from folium) (3.0.3)\n",
      "Requirement already satisfied: numpy in /home/vincent/.local/lib/python3.10/site-packages (from folium) (1.23.4)\n",
      "Requirement already satisfied: branca>=0.6.0 in /home/vincent/.local/lib/python3.10/site-packages (from folium) (0.6.0)\n",
      "Requirement already satisfied: requests in /home/vincent/.local/lib/python3.10/site-packages (from folium) (2.28.1)\n",
      "Requirement already satisfied: urllib3<1.27,>=1.21.1 in /usr/lib/python3/dist-packages (from requests->folium) (1.26.5)\n",
      "Requirement already satisfied: idna<4,>=2.5 in /usr/lib/python3/dist-packages (from requests->folium) (3.3)\n",
      "Requirement already satisfied: charset-normalizer<3,>=2 in /home/vincent/.local/lib/python3.10/site-packages (from requests->folium) (2.1.1)\n",
      "Requirement already satisfied: certifi>=2017.4.17 in /home/vincent/.local/lib/python3.10/site-packages (from requests->folium) (2022.12.7)\n"
     ]
    }
   ],
   "source": [
    "!pip install folium\n"
   ]
  },
  {
   "cell_type": "code",
   "execution_count": 21,
   "metadata": {},
   "outputs": [
    {
     "data": {
      "text/html": [
       "<div style=\"width:100%;\"><div style=\"position:relative;width:100%;height:0;padding-bottom:60%;\"><span style=\"color:#565656\">Make this Notebook Trusted to load map: File -> Trust Notebook</span><iframe srcdoc=\"&lt;!DOCTYPE html&gt;\n",
       "&lt;html&gt;\n",
       "&lt;head&gt;\n",
       "    \n",
       "    &lt;meta http-equiv=&quot;content-type&quot; content=&quot;text/html; charset=UTF-8&quot; /&gt;\n",
       "    \n",
       "        &lt;script&gt;\n",
       "            L_NO_TOUCH = false;\n",
       "            L_DISABLE_3D = false;\n",
       "        &lt;/script&gt;\n",
       "    \n",
       "    &lt;style&gt;html, body {width: 100%;height: 100%;margin: 0;padding: 0;}&lt;/style&gt;\n",
       "    &lt;style&gt;#map {position:absolute;top:0;bottom:0;right:0;left:0;}&lt;/style&gt;\n",
       "    &lt;script src=&quot;https://cdn.jsdelivr.net/npm/leaflet@1.9.3/dist/leaflet.js&quot;&gt;&lt;/script&gt;\n",
       "    &lt;script src=&quot;https://code.jquery.com/jquery-1.12.4.min.js&quot;&gt;&lt;/script&gt;\n",
       "    &lt;script src=&quot;https://cdn.jsdelivr.net/npm/bootstrap@5.2.2/dist/js/bootstrap.bundle.min.js&quot;&gt;&lt;/script&gt;\n",
       "    &lt;script src=&quot;https://cdnjs.cloudflare.com/ajax/libs/Leaflet.awesome-markers/2.0.2/leaflet.awesome-markers.js&quot;&gt;&lt;/script&gt;\n",
       "    &lt;link rel=&quot;stylesheet&quot; href=&quot;https://cdn.jsdelivr.net/npm/leaflet@1.9.3/dist/leaflet.css&quot;/&gt;\n",
       "    &lt;link rel=&quot;stylesheet&quot; href=&quot;https://cdn.jsdelivr.net/npm/bootstrap@5.2.2/dist/css/bootstrap.min.css&quot;/&gt;\n",
       "    &lt;link rel=&quot;stylesheet&quot; href=&quot;https://netdna.bootstrapcdn.com/bootstrap/3.0.0/css/bootstrap.min.css&quot;/&gt;\n",
       "    &lt;link rel=&quot;stylesheet&quot; href=&quot;https://cdn.jsdelivr.net/npm/@fortawesome/fontawesome-free@6.2.0/css/all.min.css&quot;/&gt;\n",
       "    &lt;link rel=&quot;stylesheet&quot; href=&quot;https://cdnjs.cloudflare.com/ajax/libs/Leaflet.awesome-markers/2.0.2/leaflet.awesome-markers.css&quot;/&gt;\n",
       "    &lt;link rel=&quot;stylesheet&quot; href=&quot;https://cdn.jsdelivr.net/gh/python-visualization/folium/folium/templates/leaflet.awesome.rotate.min.css&quot;/&gt;\n",
       "    \n",
       "            &lt;meta name=&quot;viewport&quot; content=&quot;width=device-width,\n",
       "                initial-scale=1.0, maximum-scale=1.0, user-scalable=no&quot; /&gt;\n",
       "            &lt;style&gt;\n",
       "                #map_1ef39237440911d79406ec75b7c9a1df {\n",
       "                    position: relative;\n",
       "                    width: 100.0%;\n",
       "                    height: 100.0%;\n",
       "                    left: 0.0%;\n",
       "                    top: 0.0%;\n",
       "                }\n",
       "                .leaflet-container { font-size: 1rem; }\n",
       "            &lt;/style&gt;\n",
       "        \n",
       "    &lt;script src=&quot;https://cdn.jsdelivr.net/gh/python-visualization/folium@main/folium/templates/leaflet_heat.min.js&quot;&gt;&lt;/script&gt;\n",
       "&lt;/head&gt;\n",
       "&lt;body&gt;\n",
       "    \n",
       "    \n",
       "            &lt;div class=&quot;folium-map&quot; id=&quot;map_1ef39237440911d79406ec75b7c9a1df&quot; &gt;&lt;/div&gt;\n",
       "        \n",
       "&lt;/body&gt;\n",
       "&lt;script&gt;\n",
       "    \n",
       "    \n",
       "            var map_1ef39237440911d79406ec75b7c9a1df = L.map(\n",
       "                &quot;map_1ef39237440911d79406ec75b7c9a1df&quot;,\n",
       "                {\n",
       "                    center: [40.713019305801545, -73.99204729040788],\n",
       "                    crs: L.CRS.EPSG3857,\n",
       "                    zoom: 13,\n",
       "                    zoomControl: true,\n",
       "                    preferCanvas: false,\n",
       "                }\n",
       "            );\n",
       "\n",
       "            \n",
       "\n",
       "        \n",
       "    \n",
       "            var tile_layer_9890fc84477d1552b6f949d7a0f1cf3a = L.tileLayer(\n",
       "                &quot;https://{s}.tile.openstreetmap.org/{z}/{x}/{y}.png&quot;,\n",
       "                {&quot;attribution&quot;: &quot;Data by \\u0026copy; \\u003ca target=\\&quot;_blank\\&quot; href=\\&quot;http://openstreetmap.org\\&quot;\\u003eOpenStreetMap\\u003c/a\\u003e, under \\u003ca target=\\&quot;_blank\\&quot; href=\\&quot;http://www.openstreetmap.org/copyright\\&quot;\\u003eODbL\\u003c/a\\u003e.&quot;, &quot;detectRetina&quot;: false, &quot;maxNativeZoom&quot;: 18, &quot;maxZoom&quot;: 18, &quot;minZoom&quot;: 0, &quot;noWrap&quot;: false, &quot;opacity&quot;: 1, &quot;subdomains&quot;: &quot;abc&quot;, &quot;tms&quot;: false}\n",
       "            ).addTo(map_1ef39237440911d79406ec75b7c9a1df);\n",
       "        \n",
       "    \n",
       "            var heat_map_c306ec29ff43963370342295baf61045 = L.heatLayer(\n",
       "                [[40.763635, -73.985011], [40.720373, -73.993676], [40.76184844970703, -73.92535400390625], [40.745792, -73.989281], [40.737489, -73.996648], [40.71996, -73.992563], [40.742986, -73.919685], [40.766066, -73.834148], [40.714754, -73.941901], [40.80471, -73.962488], [40.744377, -73.948674], [40.766985, -73.959753], [40.78575, -73.948935], [40.723978, -73.984222], [40.712795, -73.958675], [40.679989, -73.958434], [40.735453, -73.918693], [40.726844, -73.991754], [40.801078, -73.959533], [40.751849, -73.992725], [40.754165, -73.973602], [40.746968, -73.929342], [40.770145416259766, -73.99467468261719]],\n",
       "                {&quot;blur&quot;: 15, &quot;maxZoom&quot;: 18, &quot;minOpacity&quot;: 0.5, &quot;radius&quot;: 25}\n",
       "            ).addTo(map_1ef39237440911d79406ec75b7c9a1df);\n",
       "        \n",
       "    \n",
       "            var heat_map_06e45bc3f3141ab679c378f5f201ddd5 = L.heatLayer(\n",
       "                [[40.77053451538086, -73.98033142089844], [40.801326, -73.948581], [40.656873, -73.793688], [40.723005, -73.988145], [40.763913, -73.902328], [40.760807, -73.973962], [40.743227, -73.922111], [40.656762, -73.915418], [40.760963, -73.994773], [40.73528, -73.982534], [40.765322, -73.997671], [40.764014, -73.902096], [40.718842, -73.988095], [40.813525, -73.930823], [40.793587, -73.968983], [40.772441, -73.953266], [40.754798, -73.912505], [40.74934768676758, -73.99198150634764], [40.751783, -73.94458], [40.754352, -73.913307], [40.641413, -73.788578], [40.75568, -73.962528], [40.755417, -73.975422], [40.756528, -73.989734], [40.668696, -73.996384], [40.730935, -73.98603], [40.766322, -73.916112], [40.816311, -73.958743], [40.817922, -73.89254], [40.747682, -73.989632], [40.813137, -73.954213]],\n",
       "                {&quot;blur&quot;: 15, &quot;maxZoom&quot;: 18, &quot;minOpacity&quot;: 0.5, &quot;radius&quot;: 25}\n",
       "            ).addTo(map_1ef39237440911d79406ec75b7c9a1df);\n",
       "        \n",
       "    \n",
       "            var heat_map_620c736f5a5a3a76479cad94277e0c31 = L.heatLayer(\n",
       "                [[40.679971, -73.982354], [40.77984, -73.955361], [40.58159, -73.967253], [40.76917266845703, -73.95499420166014], [40.7347, -73.994844], [40.72775, -73.985273], [40.75636672973633, -73.96244812011719], [40.778497, -73.988704], [41.366138, -73.137393], [40.751722, -73.939635], [40.750793, -73.945673], [40.641265, -73.787401], [40.760127, -73.97586], [40.640193, -73.786871], [40.749708, -73.991915], [40.75149917602539, -73.9720458984375], [40.766518, -73.986621], [40.724115, -73.990526], [40.763827, -73.902042], [40.761873, -73.978743], [40.755664825439446, -73.98306274414062], [40.762805, -73.923582], [40.748828887939446, -73.89246368408203], [40.758918, -73.99004], [40.782229, -73.975913], [40.74579, -73.977822], [40.77292251586913, -73.95223236083984], [40.732497, -73.980195], [40.75598, -73.951937], [40.765646, -73.964086], [40.791401, -73.953297], [40.784385, -73.913358], [40.794345, -73.974006], [40.764055, -73.902106], [40.761762, -73.993226], [40.761387, -73.995897], [40.760496, -73.991125], [40.735001, -73.979658]],\n",
       "                {&quot;blur&quot;: 15, &quot;maxZoom&quot;: 18, &quot;minOpacity&quot;: 0.5, &quot;radius&quot;: 25}\n",
       "            ).addTo(map_1ef39237440911d79406ec75b7c9a1df);\n",
       "        \n",
       "    \n",
       "            var heat_map_f39160a572e012c3c6709775dc7e3a07 = L.heatLayer(\n",
       "                [[40.645382, -73.776286], [40.783803, -73.970803], [40.722398, -73.987085], [40.74364, -73.97361], [40.810229, -73.96109], [40.812101, -73.929852], [40.76391220092773, -73.90164947509764], [40.648796, -73.782327], [40.758187, -73.937773], [40.76315, -73.985419], [40.727892, -73.993015], [40.645855, -73.776337], [40.744868, -73.948853], [40.744674, -73.992651], [40.763904, -73.901808], [40.762808, -73.996631], [40.761972, -73.984722], [40.75174331665039, -73.9770278930664], [40.754368, -73.971761], [40.750575, -73.9741], [40.755908, -73.99046], [40.752219, -73.996107], [40.71193, -73.860233], [40.773815, -73.957748], [40.76737, -73.980489], [40.750017, -73.976245], [40.763751, -73.985317], [40.769647, -73.863131], [40.644722, -73.781882], [40.745362, -73.977274], [40.750172, -73.976536], [40.773659, -73.957803], [40.749798, -73.979766], [40.765716, -73.979932], [40.80483, -73.96428], [40.751765, -73.973859], [40.7446, -73.949], [40.74242782592773, -73.9744644165039], [40.789023, -73.976427], [40.757267, -73.963512], [40.736743, -73.978597], [40.761338, -73.98997], [40.645531, -73.780399], [40.641047, -73.786668], [40.762094, -73.978788], [40.745099, -73.919996], [40.77113, -73.960006], [40.772939, -73.949395], [40.830377, -73.947692], [40.749496, -73.995643]],\n",
       "                {&quot;blur&quot;: 15, &quot;maxZoom&quot;: 18, &quot;minOpacity&quot;: 0.5, &quot;radius&quot;: 25}\n",
       "            ).addTo(map_1ef39237440911d79406ec75b7c9a1df);\n",
       "        \n",
       "    \n",
       "            var heat_map_04235695fcba644558d66dd106647ce9 = L.heatLayer(\n",
       "                [[40.772415, -73.877376], [40.772245, -73.877458], [40.769409, -73.995767], [40.744067, -73.978626], [40.800509, -73.946597], [40.75680923461913, -73.98229217529298], [40.774089, -73.963348], [40.646854400634766, -73.789794921875], [40.708612, -73.781707], [40.748575, -73.982475], [40.764232, -73.972298], [40.746833, -73.952331], [40.752577, -73.986217], [40.734675, -73.990825], [40.764058, -73.90248], [40.719592, -73.99821], [40.722495, -73.987277], [40.747227, -73.985323], [40.757987, -73.983932], [40.764172, -73.965039], [40.775959, -73.987], [40.75353240966797, -73.96947479248048], [40.722682, -73.988622], [40.647417, -73.788442], [40.776042, -73.96129], [40.762333, -73.974477], [40.79535, -73.971528], [40.75176239013672, -73.97520446777344], [40.683527, -73.980373], [40.763838, -73.901773], [40.736749, -73.987126], [40.648912, -73.78299]],\n",
       "                {&quot;blur&quot;: 15, &quot;maxZoom&quot;: 18, &quot;minOpacity&quot;: 0.5, &quot;radius&quot;: 25}\n",
       "            ).addTo(map_1ef39237440911d79406ec75b7c9a1df);\n",
       "        \n",
       "    \n",
       "            var heat_map_4a43e89840868a7e43cd3fbc6b06f9f4 = L.heatLayer(\n",
       "                [[40.764082, -73.902], [40.762415, -73.978811], [40.76328, -73.961683], [40.756535, -73.991555], [40.744806, -73.948866], [40.813393, -73.953873], [40.75846, -73.93763], [40.760328, -73.997038], [40.645483, -73.776778], [40.783045, -73.977919], [40.727783, -73.991207], [40.75289, -73.950393], [40.788543, -73.976825], [40.844183, -73.871775], [40.648913, -73.782944], [40.735197, -73.994115], [40.789913, -73.944765], [40.783706665039055, -73.95658111572266], [40.761502, -73.984603], [40.753346, -73.976473], [40.7521, -73.969648], [40.744893, -73.946824], [40.742685, -73.992842], [40.870582, -73.904127], [40.749866, -73.973404], [40.754718, -73.977106], [40.77029, -73.951213], [40.77309036254882, -73.94611358642578], [40.774311, -73.957444], [40.75545883178711, -73.99864959716798], [40.751928, -73.981968], [40.757868, -73.98137]],\n",
       "                {&quot;blur&quot;: 15, &quot;maxZoom&quot;: 18, &quot;minOpacity&quot;: 0.5, &quot;radius&quot;: 25}\n",
       "            ).addTo(map_1ef39237440911d79406ec75b7c9a1df);\n",
       "        \n",
       "    \n",
       "            var heat_map_e5debce9d480af4df9e3bfca87173cf0 = L.heatLayer(\n",
       "                [[40.75334167480469, -73.99612426757811], [40.815077, -73.95889], [40.648605, -73.78357], [40.725548, -73.997313], [40.719305, -73.990732], [40.648704, -73.783616], [40.769132, -73.982577], [40.774357, -73.982], [40.757186, -73.975369], [40.744583, -73.946993], [40.780391, -73.98132], [40.733615, -73.951859], [40.744922, -73.948623], [40.58368, -73.922008], [40.764252, -73.901983], [40.762733, -73.9727], [40.756895, -73.963452], [40.778588, -73.956467], [40.764395, -73.973454], [40.717779, -73.996926], [40.744, -73.9486], [40.741186, -73.991724], [40.68545, -73.996723], [40.759264, -73.977932], [40.74481, -73.948601], [40.732459, -74.001773], [40.81116, -73.957931], [40.727393, -73.985529], [40.74444580078125, -73.9482421875], [40.783414, -73.950527], [40.76667, -73.953785], [40.777257, -73.959192], [40.780267, -73.946792], [40.768559, -73.987392], [40.752121, -73.938174], [40.758213, -73.969612], [40.757653, -73.974143], [40.75999069213867, -73.99456024169923], [40.748869, -73.987601], [40.744821, -73.949006], [40.764147, -73.902175], [40.767845, -73.982188], [40.775295, -73.984117]],\n",
       "                {&quot;blur&quot;: 15, &quot;maxZoom&quot;: 18, &quot;minOpacity&quot;: 0.5, &quot;radius&quot;: 25}\n",
       "            ).addTo(map_1ef39237440911d79406ec75b7c9a1df);\n",
       "        \n",
       "    \n",
       "            var heat_map_4da63eef9f76758011bf87fe72f6126e = L.heatLayer(\n",
       "                [[40.77081, -73.955647], [40.757103, -73.972183], [40.757028, -73.971894], [40.763108, -73.982149], [40.769444, -73.862692], [40.74752807617188, -73.97393035888672], [40.750173, -73.983703], [40.76419448852539, -73.97493743896483], [40.73046, -73.992655], [40.764249, -73.973182], [40.783498, -73.954825], [40.643708, -73.978443], [40.744924, -73.948766], [40.7613639831543, -73.96697998046875], [40.7692, -73.982776], [40.788761138916016, -73.9761962890625], [40.718718, -73.988101], [40.773263, -73.870257], [40.668407, -73.986874], [40.771962, -73.958912], [40.757706, -73.989599], [40.747014, -73.892237], [40.64867, -73.78365], [40.644452, -73.782641], [40.7655, -73.9837], [40.7659, -73.9678], [40.769375, -73.922228], [40.767756, -73.953549], [40.7054443359375, -74.00677490234375], [40.671725, -73.99823], [40.744687, -73.948887], [40.758182, -73.937383], [40.77749, -73.985927], [40.761321, -73.995669], [40.72385, -73.991655], [40.741365, -73.904942], [40.747178, -73.989719], [40.768743, -73.92861], [40.76343536376953, -73.97362518310547], [40.778042, -73.980473], [40.75017, -73.991985], [40.746664, -73.951306], [40.746932, -73.987943], [40.745797, -73.994265]],\n",
       "                {&quot;blur&quot;: 15, &quot;maxZoom&quot;: 18, &quot;minOpacity&quot;: 0.5, &quot;radius&quot;: 25}\n",
       "            ).addTo(map_1ef39237440911d79406ec75b7c9a1df);\n",
       "        \n",
       "    \n",
       "            var heat_map_1f94fbd65ecfdeb0e76a94e4fbccb8f4 = L.heatLayer(\n",
       "                [[40.72190856933594, -73.9864730834961], [40.773794, -73.961899], [40.79867, -73.960982], [40.762912, -73.973495], [40.758217, -73.937392], [40.75209045410156, -73.98193359375], [40.748521, -73.97612], [40.660816, -73.930308], [40.744944, -73.948621], [40.751434, -73.976846], [40.756121, -73.983847], [40.79268264770508, -73.97496032714845], [40.747518, -73.992145], [40.779634, -73.957945], [40.753544, -73.992511], [40.751556, -73.932787], [40.64468, -73.781873], [40.772437, -73.946507], [40.760032, -73.991406], [40.758647, -73.937733], [40.72295, -73.98357], [40.73664, -73.995297], [40.766647, -73.994343], [40.745627, -73.95047], [40.780532, -73.946017], [40.721791, -73.989301], [40.748778, -73.991215], [40.744808, -73.948713], [40.758157, -73.937345], [40.771888, -73.959108], [40.756313, -73.924391], [40.758712, -73.989098], [40.728488, -73.992635], [40.758395, -73.937355], [40.7416, -73.9513], [40.769728, -73.982807], [40.765037, -73.97564], [40.741482, -73.985627], [40.739335, -73.995334], [40.756204, -73.973143], [40.769593, -73.863094], [40.756173, -73.997716], [40.757062, -73.963772], [40.7552490234375, -73.9949722290039], [40.770272, -73.864707], [40.73544, -73.993678], [40.754938, -73.983934], [40.644602, -73.795258], [40.762765, -73.959528], [40.744905, -73.948907], [40.754216, -73.909235], [40.644577, -73.78268], [40.752145, -73.986603], [40.644857, -73.782017], [40.763994, -73.978507]],\n",
       "                {&quot;blur&quot;: 15, &quot;maxZoom&quot;: 18, &quot;minOpacity&quot;: 0.5, &quot;radius&quot;: 25}\n",
       "            ).addTo(map_1ef39237440911d79406ec75b7c9a1df);\n",
       "        \n",
       "    \n",
       "            var heat_map_c10d2492bf8e2b8ec7200a2a173aaf9b = L.heatLayer(\n",
       "                [[40.72954, -73.990305], [40.804095, -73.966997], [40.757635, -73.969786], [40.756142, -73.983492], [40.781742, -73.95181], [40.763198852539055, -73.98532104492188], [40.64702, -73.789471], [40.773163, -73.964507], [40.779851, -73.944301], [40.646828, -73.78899], [40.772687, -73.96069], [40.703141, -73.986799], [40.729608, -73.998663], [40.772943, -73.873994], [40.64435, -73.782361], [40.745171, -73.948652], [40.756283, -73.987315], [40.762214, -73.980855], [40.779663, -73.960463], [40.765756, -73.960882], [40.772281, -73.967072], [40.751238, -73.994412], [40.775065, -73.96104], [40.644797, -73.781842], [40.591017, -73.926297], [40.770822, -73.865722], [40.744941, -73.948715], [40.790765, -73.976568], [40.779046, -73.985032], [40.644546, -73.782426], [40.75325, -73.980675], [40.761019, -73.986504], [40.762327, -73.968902], [40.771435, -73.950788], [40.752887, -73.993137], [40.741977, -73.996971], [40.767366, -73.964599], [40.74885, -73.937211], [40.746698, -73.928877], [40.7535, -73.9809], [40.762, -73.9791]],\n",
       "                {&quot;blur&quot;: 15, &quot;maxZoom&quot;: 18, &quot;minOpacity&quot;: 0.5, &quot;radius&quot;: 25}\n",
       "            ).addTo(map_1ef39237440911d79406ec75b7c9a1df);\n",
       "        \n",
       "    \n",
       "            var heat_map_7b424892f19c2e90059ffd2923908178 = L.heatLayer(\n",
       "                [[40.75844955444336, -73.9373779296875], [40.719757080078125, -73.89054870605469], [40.754805, -73.984118], [40.754698, -73.991475], [40.785753, -73.968963], [40.64355, -73.789867], [40.759636, -73.974314], [40.758212, -73.937402], [40.775614, -73.960787], [40.800247, -73.944685], [40.754759, -73.977453], [40.758112, -73.93723], [40.69692, -73.988742], [40.763833, -73.977218], [40.75819, -73.937602], [40.74224, -73.981609], [40.714125, -73.99806], [40.755132, -73.984285], [40.8551, -73.918308], [40.810063, -73.937327], [40.74254, -73.982273], [40.761225, -73.975836], [40.778056, -73.9518], [40.76057, -73.976843], [40.763932, -73.966987], [40.731323, -73.982652], [40.745283, -73.948606], [40.761823, -73.881194], [40.739387, -73.976886], [40.751313, -73.994101], [40.751144, -73.979987], [40.64422, -73.782233], [41.366138, -73.137393], [40.778756, -73.958383], [40.751524, -73.933713], [40.800827, -73.969171], [40.64509582519531, -73.77677917480467], [40.749714, -73.987582], [40.770314, -73.987516], [40.745816, -73.990212], [40.763271, -73.978753]],\n",
       "                {&quot;blur&quot;: 15, &quot;maxZoom&quot;: 18, &quot;minOpacity&quot;: 0.5, &quot;radius&quot;: 25}\n",
       "            ).addTo(map_1ef39237440911d79406ec75b7c9a1df);\n",
       "        \n",
       "    \n",
       "            var heat_map_5c7d8a30eaeea7cc9b7a394d00617a17 = L.heatLayer(\n",
       "                [[40.71396255493164, -73.93904113769531], [40.7259407043457, -73.99739837646483], [40.645175, -73.776655], [40.753836, -73.969256], [40.775804, -73.9584], [40.760765, -73.966842], [40.645412, -73.776762], [40.793205, -73.950847], [40.7627, -73.974182], [40.64213, -73.788627], [40.766942, -73.99558], [40.72877, -73.999297], [40.748075, -73.952603], [40.722754, -74.002148], [40.782223, -73.95774], [40.797407, -73.969862], [40.764209, -73.973979], [40.77411651611328, -73.95134735107422], [40.746798, -73.952343], [40.739117, -73.989647], [40.744907, -73.948724], [40.788305, -73.976173], [40.74913, -73.982117], [40.754217, -73.988015], [40.75571, -73.971093], [40.744796, -73.99538], [40.788818, -73.952947], [40.664157, -73.787332], [40.645316, -73.776656], [40.752639, -73.95046], [40.707507, -74.003949], [40.731262, -73.982478], [40.768868, -73.954207], [40.648653, -73.783223], [40.742487, -73.982758], [40.78458, -73.95279], [40.731347, -73.991715], [40.758127, -73.992807], [40.643798, -73.789792], [40.747899, -73.973347], [40.744997, -73.906743], [40.750045776367195, -73.9949493408203], [40.763971, -73.993672], [40.780367, -73.950115], [40.721646, -73.983757], [40.752473, -73.978112], [40.651967, -73.806015], [40.741372, -73.985933], [40.748977, -73.977987], [40.745223, -73.97857]],\n",
       "                {&quot;blur&quot;: 15, &quot;maxZoom&quot;: 18, &quot;minOpacity&quot;: 0.5, &quot;radius&quot;: 25}\n",
       "            ).addTo(map_1ef39237440911d79406ec75b7c9a1df);\n",
       "        \n",
       "    \n",
       "            var heat_map_b432285345411e9bbd2dc3069ea57d87 = L.heatLayer(\n",
       "                [[40.813401, -73.48448], [40.779988, -73.980535], [40.76365, -73.90206], [40.774038, -73.873628], [40.763023, -73.982077], [40.76741027832031, -73.96263122558595], [40.656633, -73.794265], [40.752168, -73.99935], [40.74491, -73.948824], [40.757242, -73.975943], [40.741683, -73.993811], [40.722714, -73.997843], [40.756102, -73.986543], [40.761181, -73.994075], [40.64467, -73.781997], [40.758213, -73.937387], [40.770402, -73.991153], [40.74821, -73.976438], [40.760112, -73.990728], [40.750138, -73.981078], [40.758666, -73.981705], [40.753655, -73.990823], [40.767948, -73.929313], [40.751198, -73.932896], [40.784377, -73.979623], [40.749884, -73.99123], [40.697701, -73.81405], [40.75066375732422, -73.99445343017578], [40.74653, -73.928857], [40.720152, -73.987453], [40.750072, -73.952302], [40.738103, -73.980675], [40.641136, -73.787221], [40.752256, -73.943687], [40.758502, -73.937547], [40.76677, -73.985755], [40.822258, -73.939273], [40.744061, -73.982259], [40.688244, -73.987919], [40.644897, -73.781928], [40.724254, -73.990583], [40.772376, -73.919413], [40.747347, -73.989762], [40.689798, -73.990052], [40.675672, -73.984406], [40.7339, -73.990755], [40.749518, -73.987911], [40.765555, -73.93128], [40.672565, -73.987445], [40.730242, -73.99151], [40.75843, -73.998385], [40.771456, -73.964768], [40.797223, -73.949043], [40.754127, -73.968883], [40.764672, -73.970368], [40.76529, -73.957874], [40.798137, -73.940545], [40.716712, -73.995826], [40.673729, -73.800964], [40.7236, -73.998527], [40.771336, -73.9871], [40.81222, -73.929754], [40.749587, -73.993267], [40.725495, -73.995722], [40.752602, -73.945358], [40.748117, -73.975683], [40.696517, -73.813167], [40.64464, -73.78227], [40.727292, -73.988606], [40.647024, -73.789324], [40.761865, -73.977525], [40.757667, -73.97724], [40.77835464477539, -73.98092651367188], [40.793508, -73.9404], [40.75204, -73.979627], [40.752383, -73.97485], [40.78223419189453, -73.95369720458984]],\n",
       "                {&quot;blur&quot;: 15, &quot;maxZoom&quot;: 18, &quot;minOpacity&quot;: 0.5, &quot;radius&quot;: 25}\n",
       "            ).addTo(map_1ef39237440911d79406ec75b7c9a1df);\n",
       "        \n",
       "    \n",
       "            var heat_map_bed7249d45fb776052ec72b041125a1f = L.heatLayer(\n",
       "                [[40.758227, -73.937353], [40.759961, -73.985884], [40.74079, -73.993328], [40.76179, -73.969772], [40.797927, -73.961802], [40.760462, -73.98561], [40.719419, -73.987686], [40.806997, -73.961017], [40.738358, -73.983998], [40.749637, -73.972233], [40.725673, -73.994845], [40.76281, -73.972807], [40.719432, -73.997253], [40.742055, -73.990588], [40.755338, -73.996867], [40.789293, -73.973252], [40.761225, -73.994978], [40.680999, -73.983188], [40.733428, -73.999667], [40.749409, -73.942885], [40.762337, -73.996012], [40.759808, -73.917237], [40.724592, -73.990625], [40.756986, -74.001208], [40.744936, -73.948968], [40.74789, -73.939463], [40.808672, -73.959683], [40.776546, -73.948217], [40.766484, -73.960125], [40.728855, -73.976493], [40.811802, -73.957535], [40.734398, -73.989638], [40.839826, -73.846339], [40.771027, -73.866307], [40.647396, -73.788358], [40.719852, -73.992942], [40.812258, -73.929664], [40.763069, -73.980339], [40.657048, -73.793493], [40.721247, -73.982805], [40.764307, -73.968611], [40.729499, -74.006886], [40.750114, -73.99157]],\n",
       "                {&quot;blur&quot;: 15, &quot;maxZoom&quot;: 18, &quot;minOpacity&quot;: 0.5, &quot;radius&quot;: 25}\n",
       "            ).addTo(map_1ef39237440911d79406ec75b7c9a1df);\n",
       "        \n",
       "    \n",
       "            var heat_map_1bad2b597286ed9034efef00b9c48130 = L.heatLayer(\n",
       "                [[40.75072479248047, -73.99436950683594], [40.7648811340332, -73.9876937866211], [40.72917, -73.987475], [40.729873, -73.98081], [40.772343, -73.964965], [40.747613, -74.004335], [40.724278, -73.948161], [40.744918, -73.948593], [40.72844, -74.00537], [40.755617, -73.964933], [40.75876, -73.98761], [40.757765, -73.973793], [40.759133, -73.985885], [40.771779, -73.963455], [40.761123, -73.983975], [40.790037, -73.954097], [40.6486, -73.7833], [40.732247, -73.814991], [40.776124, -73.947696], [40.75526, -73.967539], [40.6449, -73.781677], [40.740611, -73.99319], [40.784077, -73.952238], [40.778025, -73.954328], [40.75844, -73.998585], [40.744716, -73.981123], [40.769492, -73.954777], [40.646697, -73.789748], [40.74421, -73.985772], [40.765111, -73.960977], [40.767734, -73.963943], [40.750375, -73.94421], [40.755725, -73.991047], [40.712547, -73.968665], [40.771033, -73.95354], [40.769668, -73.986767], [40.791392, -73.940517], [40.763495, -73.97799], [40.652542, -73.786382], [40.798446, -73.941253], [40.723203, -74.000751], [40.641968, -73.789288], [40.757551, -73.969005], [40.76521, -73.982868], [40.719222, -73.987803], [40.644797, -73.7767], [40.731763, -73.98342], [41.042513, -73.602031], [40.711543, -74.007573], [40.6471, -73.789323], [40.773819, -73.874439], [40.746755, -73.989996], [40.76454162597656, -73.93672943115233], [40.804256, -73.939475], [40.763022, -73.938863], [40.756395, -73.974618], [40.856857, -73.860533], [40.751816, -73.939693], [40.744753, -73.949045], [40.738234, -73.990324], [40.738873, -73.995637], [40.73599, -73.993633], [40.756857, -73.990006]],\n",
       "                {&quot;blur&quot;: 15, &quot;maxZoom&quot;: 18, &quot;minOpacity&quot;: 0.5, &quot;radius&quot;: 25}\n",
       "            ).addTo(map_1ef39237440911d79406ec75b7c9a1df);\n",
       "        \n",
       "    \n",
       "            var heat_map_a821d446ff3850011b3c4dee0f73799a = L.heatLayer(\n",
       "                [[40.806269, -73.942346], [40.761747, -73.98603], [41.366138, -73.137393], [40.765737, -73.955303], [40.724628, -73.997729], [40.784662, -73.951742], [40.679889, -73.98437], [40.768124, -73.982064], [40.750118, -73.994877], [40.754235, -73.988101], [40.764614, -73.983279], [40.638656, -73.785898], [40.734538, -73.998873], [40.647278, -73.788418], [40.713857, -73.997688], [40.742398, -73.993552], [40.723295, -73.979515], [40.713416, -73.998334], [40.750167, -73.977947], [40.757269, -73.977187], [40.681909, -73.979992], [40.755706787109375, -73.99059295654298], [40.75367, -73.992377], [40.746904, -73.971114], [40.697221, -73.935734], [40.755948, -73.997927], [40.733795, -73.977353], [40.745328, -73.992835], [40.756617, -73.964208], [40.648693, -73.783158], [40.754887, -73.986917], [40.74108, -73.990482], [40.77501, -73.953948], [40.641618, -73.788483], [40.74479, -73.956503], [40.725221, -73.984263], [40.764063, -73.994019], [40.644763, -73.782078], [40.744815, -73.980933], [40.697718, -73.992797], [40.768153, -73.971048], [40.76877975463867, -73.95609283447266], [40.768353, -73.95607], [40.732373, -74.006672], [40.783047, -73.973767], [40.745063, -73.9847], [40.787842, -73.974874], [40.753767, -73.992953], [40.642744, -73.789754], [40.748334, -73.988788], [40.656634, -73.894791], [40.775628, -73.950885], [40.75753, -73.972972]],\n",
       "                {&quot;blur&quot;: 15, &quot;maxZoom&quot;: 18, &quot;minOpacity&quot;: 0.5, &quot;radius&quot;: 25}\n",
       "            ).addTo(map_1ef39237440911d79406ec75b7c9a1df);\n",
       "        \n",
       "    \n",
       "            var heat_map_c2443a49c2f18c707cd9a1fc3a68e962 = L.heatLayer(\n",
       "                [[40.776214599609375, -73.949951171875], [40.760143, -73.971568], [40.759587, -73.967522], [40.766879, -73.982514], [40.758499145507805, -73.99286651611328], [40.751055, -73.994136], [40.64868, -73.783612], [40.749254, -73.983023], [40.76498, -73.983755], [40.722827, -73.988492], [40.774997, -73.981933], [40.758401, -73.984739], [40.802029, -73.93719], [40.75664520263672, -73.99029541015625], [40.763327, -73.986663], [40.75160217285156, -73.93269348144531], [40.64522, -73.77666], [40.740579, -73.994237], [40.764593, -73.961535], [40.700707, -73.990088], [40.753608, -73.985092], [40.751445, -73.985788], [40.78201, -73.979233], [40.758185, -73.93753], [40.713925, -73.961781], [40.760549, -73.994832], [40.720512, -73.996866], [40.752404, -73.978924], [40.760925, -73.98658], [40.758252, -73.937573], [40.777187, -73.95002], [40.834792, -73.848728], [40.774089813232415, -73.87346649169923], [40.724206, -73.950964], [40.767258, -73.954032], [40.7796630859375, -73.9472885131836], [40.78305, -73.97973], [40.723287, -73.995605], [40.74394, -73.979647], [40.741043, -73.994069], [40.738523, -73.999767], [40.677586, -73.972632], [40.780743, -73.95883], [40.750861, -73.97046], [40.938832, -73.832655]],\n",
       "                {&quot;blur&quot;: 15, &quot;maxZoom&quot;: 18, &quot;minOpacity&quot;: 0.5, &quot;radius&quot;: 25}\n",
       "            ).addTo(map_1ef39237440911d79406ec75b7c9a1df);\n",
       "        \n",
       "    \n",
       "            var heat_map_c97011609cdf2b50ea1501f4e3fb072a = L.heatLayer(\n",
       "                [[40.695922, -73.812794], [40.92760848999024, -73.75789642333984], [40.730566, -73.982791], [40.764278, -73.968703], [40.787427, -73.977611], [40.686507, -73.979012], [40.769727, -73.863242], [40.71254, -73.964515], [40.721473, -73.997734], [40.720225, -73.98824], [40.828541, -73.94898], [40.758182, -73.937617], [40.764948, -73.973179], [40.740825, -73.935201], [40.772529, -73.869527], [40.759417, -73.967943], [40.745734, -73.987887], [40.765868, -73.976645], [40.727333, -74.005471], [40.755907, -73.963187], [40.754272, -73.965772], [40.71974563598633, -73.98648071289062], [40.722516, -73.561369], [40.644229, -73.790233], [40.67272, -73.987237], [40.761847, -73.96648], [40.733834, -74.004471], [40.749799, -73.997444], [40.751025, -73.994467], [40.68731, -73.967715], [40.725142, -73.995405], [40.64458, -73.782535], [40.778835, -73.977708], [40.8036, -73.945094], [40.644973, -73.776874], [40.64613342285156, -73.7764129638672], [40.785119, -73.949171], [40.742513, -73.992446], [40.675812, -73.980828], [40.763973, -73.95587], [40.733908, -74.002596], [40.687332, -73.995835], [40.745428, -73.998334], [40.776184, -73.955638], [40.76230239868164, -73.9827880859375], [40.76178, -73.99016], [40.758157, -73.93729], [40.641453, -73.786568], [40.754953, -73.968771], [40.749753, -73.992178], [40.734133, -73.992465], [40.75740051269531, -73.88880157470702], [40.646913, -73.789949], [40.744385, -73.93354]],\n",
       "                {&quot;blur&quot;: 15, &quot;maxZoom&quot;: 18, &quot;minOpacity&quot;: 0.5, &quot;radius&quot;: 25}\n",
       "            ).addTo(map_1ef39237440911d79406ec75b7c9a1df);\n",
       "        \n",
       "    \n",
       "            var heat_map_9a7b3fc181cd83c53efc69a783cc2657 = L.heatLayer(\n",
       "                [[40.741431, -73.880422], [40.718555450439446, -73.85269165039062], [40.757352, -73.989952], [40.750755, -73.990328], [40.766236, -73.983671], [40.76133728027344, -73.9867172241211], [41.366138, -73.137393], [40.7218, -73.99333], [40.880087, -73.905165], [40.744169, -73.976115], [40.746155, -73.99349], [40.768812, -73.955365], [40.645185, -73.776706], [40.719506, -73.997428], [40.75472, -73.968416], [40.717429, -73.995329], [40.641122, -73.78681], [40.75844, -73.93759], [40.72822, -73.97725], [40.761355, -73.99571], [40.762955, -73.981642], [40.75591, -73.97445], [40.750445, -73.987627], [40.762753, -73.978552], [40.741886, -73.984817], [40.72865, -73.984487], [40.749153, -73.995548], [40.766308, -73.960135], [40.729676, -73.981052], [40.750074, -73.983565], [40.74516, -73.982222], [40.646732, -73.790512], [40.737818, -73.98389], [40.774234, -73.98514], [40.769759, -73.964651], [40.758855, -73.999537], [40.64502, -73.77742], [40.723831, -73.9851], [40.731395, -73.982657]],\n",
       "                {&quot;blur&quot;: 15, &quot;maxZoom&quot;: 18, &quot;minOpacity&quot;: 0.5, &quot;radius&quot;: 25}\n",
       "            ).addTo(map_1ef39237440911d79406ec75b7c9a1df);\n",
       "        \n",
       "    \n",
       "            var heat_map_30671f133724204eef662a181ff6b905 = L.heatLayer(\n",
       "                [[40.74113082885742, -73.99412536621094], [40.756204, -73.96764], [40.753511, -73.978199], [40.722211, -73.996679], [40.72269, -73.994132], [40.719972, -73.987775], [40.761613, -73.996519], [40.789248, -73.948503], [40.761863, -73.977873], [40.742058, -73.977845], [40.772397, -73.96307], [40.759208, -73.977415], [40.770057, -73.864166], [40.748981, -73.987964], [40.643772, -73.790479], [40.746247, -73.988017], [40.723332, -73.982473], [40.786457, -73.977895], [40.759043, -73.967383], [40.757717, -73.990002], [40.79348373413086, -73.96720123291014], [40.688635, -73.980658], [40.784487, -73.981162], [40.770215, -73.990908], [40.740777, -73.978912], [40.773949, -73.874443], [40.747116, -73.991405], [40.760088, -73.98816], [40.744072, -73.985753], [40.763372, -73.962392], [40.762793, -73.98349], [40.646141, -73.780493], [40.589895, -73.946575], [40.643845, -73.790078], [40.721865, -73.985515], [40.747028, -73.993447], [40.744412, -73.980557], [40.709471, -73.961076]],\n",
       "                {&quot;blur&quot;: 15, &quot;maxZoom&quot;: 18, &quot;minOpacity&quot;: 0.5, &quot;radius&quot;: 25}\n",
       "            ).addTo(map_1ef39237440911d79406ec75b7c9a1df);\n",
       "        \n",
       "    \n",
       "            var heat_map_a7f8f188626ba89cf8a5e2a40826bb5c = L.heatLayer(\n",
       "                [[40.722775, -73.988468], [40.763557, -73.981937], [40.751477, -73.981824], [40.814752, -73.941233], [40.719067, -73.956579], [40.731668, -73.983686], [40.72223, -73.988738], [40.734427, -73.999292], [40.714105, -73.951792], [40.739221, -74.001177], [40.751803, -73.993735], [40.789338, -73.949268], [40.758712, -73.98127], [40.751519, -73.932925], [40.764217, -73.984677], [40.67839813232422, -73.69999694824217], [40.71899032592773, -73.98922729492188], [40.734272, -73.990393], [40.719988, -73.987948], [40.832644, -73.945471], [40.758778, -73.968667], [40.764295, -73.98532], [40.751585, -73.974284], [40.771368, -73.956525], [40.740442, -73.990165], [40.771665, -73.982808], [40.644707, -73.781817], [40.749764, -73.972523], [40.713632, -73.95818], [40.751418, -73.993957], [40.720677, -73.988835], [40.731185, -73.988682], [40.812005, -73.929718], [40.76301, -73.9722], [40.723962, -73.976724], [40.75834, -73.937743], [40.713426, -73.958229], [40.783045, -73.94798], [40.732913, -73.990678], [40.719892, -73.992112], [40.754578, -73.974567], [40.724908, -73.990475], [40.726232, -73.991756], [40.771222, -73.865718], [40.648622, -73.782954]],\n",
       "                {&quot;blur&quot;: 15, &quot;maxZoom&quot;: 18, &quot;minOpacity&quot;: 0.5, &quot;radius&quot;: 25}\n",
       "            ).addTo(map_1ef39237440911d79406ec75b7c9a1df);\n",
       "        \n",
       "    \n",
       "            var heat_map_dc8a662146245a12392dfe485a125ddb = L.heatLayer(\n",
       "                [[40.777338, -73.951547], [40.801188, -73.941738], [40.784009, -73.977705], [40.761988, -73.990191], [40.72079, -73.944358], [40.784371, -73.977553], [40.734633, -73.987733], [40.771259, -73.956477], [40.73820495605469, -73.98332977294923], [40.75898, -73.911266], [40.744487, -73.928648], [40.770073, -73.994759], [40.76212, -73.98766], [40.758097, -73.982511], [40.719935, -73.998512], [40.721697, -73.95806], [40.773339, -73.980464], [40.745022, -73.975773], [40.749377, -73.99207], [40.73583984375, -73.98722076416014]],\n",
       "                {&quot;blur&quot;: 15, &quot;maxZoom&quot;: 18, &quot;minOpacity&quot;: 0.5, &quot;radius&quot;: 25}\n",
       "            ).addTo(map_1ef39237440911d79406ec75b7c9a1df);\n",
       "        \n",
       "    \n",
       "            var heat_map_3b8923affb907f0fb8bc058b37a706c5 = L.heatLayer(\n",
       "                [[40.71713, -73.994693], [40.742943, -73.982129], [40.73870468139648, -73.7844009399414], [40.741215, -73.9964], [40.758047, -73.999527], [40.780228, -73.947072], [40.683237, -73.979147], [40.722887, -73.989132], [40.764821, -73.96152], [40.777208, -73.978448], [40.739713, -73.99505], [40.719493, -73.989703], [40.75913, -73.98446], [40.763203, -73.989257], [40.721937, -73.992027], [40.719902, -73.98764], [40.839597, -73.870905], [40.741862, -73.974992], [40.932968, -73.929488]],\n",
       "                {&quot;blur&quot;: 15, &quot;maxZoom&quot;: 18, &quot;minOpacity&quot;: 0.5, &quot;radius&quot;: 25}\n",
       "            ).addTo(map_1ef39237440911d79406ec75b7c9a1df);\n",
       "        \n",
       "    \n",
       "            var heat_map_d650af477fa7558c04109ed7e08cc082 = L.heatLayer(\n",
       "                [[40.730762481689446, -74.0016326904297], [40.740996, -73.934842], [40.725011, -73.990293], [40.731518, -73.98245], [40.758588, -73.975078], [40.683153, -73.963723], [40.76203, -73.996997], [40.750071, -73.882362], [40.736408, -73.987668], [40.688077, -73.832617], [40.766617, -73.9864], [40.729385, -73.99011], [40.83915710449219, -73.94635772705078], [40.823701, -73.944082], [40.728191375732415, -73.99923706054686], [40.762752, -73.982855], [40.73374938964844, -73.98977661132812], [40.763338, -73.972677], [40.789047, -73.953047], [40.751678, -73.933401], [40.750567, -73.660552], [40.754088, -73.993167], [40.761021, -73.982016], [40.732002, -73.982252]],\n",
       "                {&quot;blur&quot;: 15, &quot;maxZoom&quot;: 18, &quot;minOpacity&quot;: 0.5, &quot;radius&quot;: 25}\n",
       "            ).addTo(map_1ef39237440911d79406ec75b7c9a1df);\n",
       "        \n",
       "    \n",
       "            var layer_control_f1579a0b80ed979d95593fe137883c28 = {\n",
       "                base_layers : {\n",
       "                    &quot;openstreetmap&quot; : tile_layer_9890fc84477d1552b6f949d7a0f1cf3a,\n",
       "                },\n",
       "                overlays :  {\n",
       "                    &quot;Pickups at 0h&quot; : heat_map_c306ec29ff43963370342295baf61045,\n",
       "                    &quot;Pickups at 1h&quot; : heat_map_06e45bc3f3141ab679c378f5f201ddd5,\n",
       "                    &quot;Pickups at 2h&quot; : heat_map_620c736f5a5a3a76479cad94277e0c31,\n",
       "                    &quot;Pickups at 3h&quot; : heat_map_f39160a572e012c3c6709775dc7e3a07,\n",
       "                    &quot;Pickups at 4h&quot; : heat_map_04235695fcba644558d66dd106647ce9,\n",
       "                    &quot;Pickups at 5h&quot; : heat_map_4a43e89840868a7e43cd3fbc6b06f9f4,\n",
       "                    &quot;Pickups at 6h&quot; : heat_map_e5debce9d480af4df9e3bfca87173cf0,\n",
       "                    &quot;Pickups at 7h&quot; : heat_map_4da63eef9f76758011bf87fe72f6126e,\n",
       "                    &quot;Pickups at 8h&quot; : heat_map_1f94fbd65ecfdeb0e76a94e4fbccb8f4,\n",
       "                    &quot;Pickups at 9h&quot; : heat_map_c10d2492bf8e2b8ec7200a2a173aaf9b,\n",
       "                    &quot;Pickups at 10h&quot; : heat_map_7b424892f19c2e90059ffd2923908178,\n",
       "                    &quot;Pickups at 11h&quot; : heat_map_5c7d8a30eaeea7cc9b7a394d00617a17,\n",
       "                    &quot;Pickups at 12h&quot; : heat_map_b432285345411e9bbd2dc3069ea57d87,\n",
       "                    &quot;Pickups at 13h&quot; : heat_map_bed7249d45fb776052ec72b041125a1f,\n",
       "                    &quot;Pickups at 14h&quot; : heat_map_1bad2b597286ed9034efef00b9c48130,\n",
       "                    &quot;Pickups at 15h&quot; : heat_map_a821d446ff3850011b3c4dee0f73799a,\n",
       "                    &quot;Pickups at 16h&quot; : heat_map_c2443a49c2f18c707cd9a1fc3a68e962,\n",
       "                    &quot;Pickups at 17h&quot; : heat_map_c97011609cdf2b50ea1501f4e3fb072a,\n",
       "                    &quot;Pickups at 18h&quot; : heat_map_9a7b3fc181cd83c53efc69a783cc2657,\n",
       "                    &quot;Pickups at 19h&quot; : heat_map_30671f133724204eef662a181ff6b905,\n",
       "                    &quot;Pickups at 20h&quot; : heat_map_a7f8f188626ba89cf8a5e2a40826bb5c,\n",
       "                    &quot;Pickups at 21h&quot; : heat_map_dc8a662146245a12392dfe485a125ddb,\n",
       "                    &quot;Pickups at 22h&quot; : heat_map_3b8923affb907f0fb8bc058b37a706c5,\n",
       "                    &quot;Pickups at 23h&quot; : heat_map_d650af477fa7558c04109ed7e08cc082,\n",
       "                },\n",
       "            };\n",
       "            L.control.layers(\n",
       "                layer_control_f1579a0b80ed979d95593fe137883c28.base_layers,\n",
       "                layer_control_f1579a0b80ed979d95593fe137883c28.overlays,\n",
       "                {&quot;autoZIndex&quot;: true, &quot;collapsed&quot;: true, &quot;position&quot;: &quot;topright&quot;}\n",
       "            ).addTo(map_1ef39237440911d79406ec75b7c9a1df);\n",
       "        \n",
       "&lt;/script&gt;\n",
       "&lt;/html&gt;\" style=\"position:absolute;width:100%;height:100%;left:0;top:0;border:none !important;\" allowfullscreen webkitallowfullscreen mozallowfullscreen></iframe></div></div>"
      ],
      "text/plain": [
       "<folium.folium.Map at 0x7fe57fb95690>"
      ]
     },
     "execution_count": 21,
     "metadata": {},
     "output_type": "execute_result"
    }
   ],
   "source": [
    "import folium\n",
    "from folium.plugins import HeatMap\n",
    "\n",
    "map_obj = folium.Map(location = [40.713019305801545, -73.99204729040788], zoom_start = 13)\n",
    "heatmaps = []\n",
    "\n",
    "sample_data = data.iloc[:1000]\n",
    "\n",
    "for i in range(24):\n",
    "    timed_data = sample_data[sample_data[\"hour\"] == i]\n",
    "    hm = HeatMap(data=timed_data[[\"pickup_latitude\", \"pickup_longitude\"]], name=f\"Pickups at {i}h\")\n",
    "    heatmaps.append(hm)\n",
    "    hm.add_to(map_obj)\n",
    "    \n",
    "folium.LayerControl().add_to(map_obj)\n",
    "map_obj"
   ]
  },
  {
   "cell_type": "code",
   "execution_count": null,
   "metadata": {},
   "outputs": [],
   "source": []
  },
  {
   "cell_type": "markdown",
   "metadata": {},
   "source": [
    "#### Distance\n",
    "\n",
    "- Compute the distance between pickup and dropoff locations (tip: https://en.wikipedia.org/wiki/Haversine_formula)\n",
    "- Write a method `def haversine_distance(df, **kwargs)` that you will be able to reuse later\n",
    "- Compute a few statistics for distance and plot distance distribution"
   ]
  },
  {
   "cell_type": "code",
   "execution_count": 22,
   "metadata": {},
   "outputs": [
    {
     "name": "stdout",
     "output_type": "stream",
     "text": [
      "Defaulting to user installation because normal site-packages is not writeable\n",
      "Requirement already satisfied: haversine in /home/vincent/.local/lib/python3.10/site-packages (2.7.0)\n"
     ]
    }
   ],
   "source": [
    "!pip install haversine\n",
    "import haversine as hs # Un module qui permet de calculer la distance entre deux points en fonction de leurs coordonnées GPS"
   ]
  },
  {
   "cell_type": "code",
   "execution_count": 23,
   "metadata": {},
   "outputs": [],
   "source": [
    "def haversine_distance(df,\n",
    "                       start_lat=\"start_lat\",\n",
    "                       start_lon=\"start_lon\",\n",
    "                       end_lat=\"end_lat\",\n",
    "                       end_lon=\"end_lon\"):\n",
    "    \"\"\"\n",
    "    Calculate the great circle distance between two points \n",
    "    on the earth (specified in decimal degrees).\n",
    "    Vectorized version of the haversine distance for pandas df\n",
    "    Computes distance in kms\n",
    "    \"\"\"\n",
    "    \n",
    "    def compute_distance(x):\n",
    "        return hs.haversine((x[start_lat], x[start_lon]), (x[end_lat], x[end_lon]))\n",
    "    \n",
    "    df[\"distance\"] = df.apply(compute_distance, axis=1)\n",
    " \n",
    "    return df\n",
    "\n",
    "data = haversine_distance(data, \n",
    "                        start_lat=\"pickup_latitude\", start_lon=\"pickup_longitude\",\n",
    "                        end_lat=\"dropoff_latitude\", end_lon=\"dropoff_longitude\")\n",
    "\n"
   ]
  },
  {
   "cell_type": "code",
   "execution_count": 24,
   "metadata": {},
   "outputs": [
    {
     "data": {
      "text/plain": [
       "count    847916.000000\n",
       "mean          3.288397\n",
       "std           3.717416\n",
       "min           0.000000\n",
       "25%           1.236224\n",
       "50%           2.112552\n",
       "75%           3.837175\n",
       "max         104.255112\n",
       "Name: distance, dtype: float64"
      ]
     },
     "execution_count": 24,
     "metadata": {},
     "output_type": "execute_result"
    }
   ],
   "source": [
    "data.distance.describe()"
   ]
  },
  {
   "cell_type": "code",
   "execution_count": 25,
   "metadata": {},
   "outputs": [
    {
     "name": "stderr",
     "output_type": "stream",
     "text": [
      "/tmp/ipykernel_20317/515728147.py:2: UserWarning: \n",
      "\n",
      "`distplot` is a deprecated function and will be removed in seaborn v0.14.0.\n",
      "\n",
      "Please adapt your code to use either `displot` (a figure-level function with\n",
      "similar flexibility) or `histplot` (an axes-level function for histograms).\n",
      "\n",
      "For a guide to updating your code to use the new functions, please see\n",
      "https://gist.github.com/mwaskom/de44147ed2974457ad6372750bbe5751\n",
      "\n",
      "  sns.distplot(series)\n"
     ]
    },
    {
     "data": {
      "image/png": "[encoded data removed]",
      "text/plain": [
       "<Figure size 432x288 with 1 Axes>"
      ]
     },
     "metadata": {
      "needs_background": "light"
     },
     "output_type": "display_data"
    }
   ],
   "source": [
    "%matplotlib inline\n",
    "plot_dist(series=data[data[\"distance\"] < 50].distance, title='Distance distribution')"
   ]
  },
  {
   "cell_type": "markdown",
   "metadata": {},
   "source": [
    "#### Explore how target variable correlate with other variables\n",
    "\n",
    "- As a first step, you can visualize the target variable vs another variable. For categorical variables, it is often useful to compute the average target variable for each category (Seaborn has plots that do it for you!). For continuous variables (like distance, you can use scatter plots, or regression plots, or bucket the distance into different bins\n",
    "- But there many different ways to visualize correlation between features, so be creative"
   ]
  },
  {
   "cell_type": "code",
   "execution_count": 26,
   "metadata": {},
   "outputs": [
    {
     "data": {
      "image/png": "[encoded data removed]",
      "text/plain": [
       "<Figure size 1080x360 with 1 Axes>"
      ]
     },
     "metadata": {
      "needs_background": "light"
     },
     "output_type": "display_data"
    }
   ],
   "source": [
    "sns.catplot(x=\"passenger_count\", y=\"fare_amount\", palette=palette, data=data, kind=\"bar\", aspect=3)\n",
    "sns.despine()\n",
    "plt.show()"
   ]
  },
  {
   "cell_type": "code",
   "execution_count": 27,
   "metadata": {},
   "outputs": [
    {
     "data": {
      "image/png": "[encoded data removed]",
      "text/plain": [
       "<Figure size 1080x360 with 1 Axes>"
      ]
     },
     "metadata": {
      "needs_background": "light"
     },
     "output_type": "display_data"
    }
   ],
   "source": [
    "sns.catplot(x=\"hour\", y=\"fare_amount\", palette=palette, data=data, kind=\"bar\", aspect=3)\n",
    "sns.despine()\n",
    "plt.show()"
   ]
  },
  {
   "cell_type": "code",
   "execution_count": 28,
   "metadata": {},
   "outputs": [
    {
     "data": {
      "image/png": "[encoded data removed]",
      "text/plain": [
       "<Figure size 1080x360 with 1 Axes>"
      ]
     },
     "metadata": {
      "needs_background": "light"
     },
     "output_type": "display_data"
    }
   ],
   "source": [
    "sns.catplot(x=\"weekday\", y=\"fare_amount\", palette=palette, data=data, kind=\"bar\", aspect=3)\n",
    "sns.despine()\n",
    "plt.show()"
   ]
  },
  {
   "cell_type": "code",
   "execution_count": 29,
   "metadata": {},
   "outputs": [
    {
     "data": {
      "image/png": "[encoded data removed]",
      "text/plain": [
       "<Figure size 432x288 with 1 Axes>"
      ]
     },
     "metadata": {
      "needs_background": "light"
     },
     "output_type": "display_data"
    }
   ],
   "source": [
    "sns.scatterplot(x=\"distance\", y=\"fare_amount\", data=data[data.distance < 80].sample(100000))\n",
    "plt.show()"
   ]
  },
  {
   "cell_type": "code",
   "execution_count": 30,
   "metadata": {},
   "outputs": [
    {
     "data": {
      "image/png": "[encoded data removed]",
      "text/plain": [
       "<Figure size 432x288 with 1 Axes>"
      ]
     },
     "metadata": {
      "needs_background": "light"
     },
     "output_type": "display_data"
    }
   ],
   "source": [
    "sns.scatterplot(x=\"distance\", y=\"fare_amount\", hue=\"passenger_count\", data=data[data.distance < 80].sample(100000))\n",
    "plt.show()"
   ]
  },
  {
   "cell_type": "markdown",
   "metadata": {},
   "source": [
    "## 3. Data cleaning <a id='part3'></a>"
   ]
  },
  {
   "cell_type": "markdown",
   "metadata": {},
   "source": [
    "As you probably saw in the previous section during your data exploration, there are some values that do not seem valid.\n",
    "In this section, you will take a few steps to clean the training data."
   ]
  },
  {
   "cell_type": "markdown",
   "metadata": {},
   "source": [
    "Remove all the trips that look incorrect. We recommend that you write a method called `clean_data(df)` that you will be able to re-use in the next steps."
   ]
  },
  {
   "cell_type": "code",
   "execution_count": 31,
   "metadata": {},
   "outputs": [
    {
     "name": "stdout",
     "output_type": "stream",
     "text": [
      "trips with negative fares: 18\n",
      "trips with too high distance: 16\n",
      "trips with too many passengers: 0\n",
      "trips with zero passenger: 2999\n"
     ]
    }
   ],
   "source": [
    "print(\"trips with negative fares:\", len(data[data.fare_amount <= 0]))\n",
    "print(\"trips with too high distance:\", len(data[data.distance >= 100]))\n",
    "print(\"trips with too many passengers:\", len(data[data.passenger_count > 8]))\n",
    "print(\"trips with zero passenger:\", len(data[data.passenger_count == 0]))"
   ]
  },
  {
   "cell_type": "code",
   "execution_count": 32,
   "metadata": {},
   "outputs": [
    {
     "data": {
      "text/plain": [
       "'1.0789983913500834% of data removed'"
      ]
     },
     "execution_count": 32,
     "metadata": {},
     "output_type": "execute_result"
    }
   ],
   "source": [
    "def clean_data(df):\n",
    "\n",
    "    df = df[df[\"fare_amount\"] > 0]\n",
    "    df = df[df[\"distance\"] < 200] # Une distance de 100 km ne paraît pas incohérente, bien qu'exceptionnelle.\n",
    "    # Pour cette raison, on préfère ici garder toutes les lignes dont la distance est inférieure à 200 km\n",
    "    df = df[df[\"distance\"] != 0]\n",
    "    return df\n",
    "\n",
    "cleaned_data = clean_data(data)\n",
    "f\"{(1 - len(cleaned_data) / len(data)) * 100}% of data removed\""
   ]
  },
  {
   "cell_type": "code",
   "execution_count": 33,
   "metadata": {},
   "outputs": [
    {
     "data": {
      "text/plain": [
       "Index(['key', 'fare_amount', 'pickup_datetime', 'pickup_longitude',\n",
       "       'pickup_latitude', 'dropoff_longitude', 'dropoff_latitude',\n",
       "       'passenger_count', 'fare-bin', 'hour', 'weekday', 'month', 'year',\n",
       "       'distance'],\n",
       "      dtype='object')"
      ]
     },
     "execution_count": 33,
     "metadata": {},
     "output_type": "execute_result"
    }
   ],
   "source": [
    "cleaned_data.columns"
   ]
  },
  {
   "cell_type": "markdown",
   "metadata": {},
   "source": [
    "## 4. Evaluation metric <a id='part4'></a>"
   ]
  },
  {
   "cell_type": "markdown",
   "metadata": {},
   "source": [
    "The evaluation metric for this competition is the root mean-squared error or RMSE. The RMSE measures the difference between the predictions of a model, and the corresponding ground truth. A large RMSE is equivalent to a large average error, so smaller values of RMSE are better.\n",
    "\n",
    "More details here https://www.kaggle.com/c/new-york-city-taxi-fare-prediction/overview/evaluation"
   ]
  },
  {
   "cell_type": "markdown",
   "metadata": {},
   "source": [
    "Write a method `def compute_rmse(y_pred, y_true)` that computes the RMSE given `y_pred` and `y_true` which are two numpy arrays corresponding to model predictions and ground truth values.\n",
    "\n",
    "This method will be useful in order to evaluate the performance of your model."
   ]
  },
  {
   "cell_type": "code",
   "execution_count": 34,
   "metadata": {},
   "outputs": [],
   "source": [
    "def compute_rmse(y_pred, y_true):\n",
    "    mse = np.mean((y_pred - y_true)**2)\n",
    "    return np.sqrt(mse)\n",
    "\n"
   ]
  },
  {
   "cell_type": "markdown",
   "metadata": {
    "heading_collapsed": true
   },
   "source": [
    "## 5. Model baseline <a id='part5'></a>"
   ]
  },
  {
   "cell_type": "markdown",
   "metadata": {
    "hidden": true
   },
   "source": [
    "Before building your model, it is often useful to get a performance benchmark. For this, you will use a baseline model that is a very dumb model and compute the evaluation metric on that model.\n",
    "Then, you will be able to see how much better your model is compared to the baseline. It is very common to see ML teams coming up with very sophisticated approaches without knowing by how much their model beats the very simple model."
   ]
  },
  {
   "cell_type": "markdown",
   "metadata": {
    "hidden": true
   },
   "source": [
    "- Generate predictions based on a simple heuristic\n",
    "- Evaluate the RMSE for these predictions"
   ]
  },
  {
   "cell_type": "code",
   "execution_count": 35,
   "metadata": {
    "hidden": true
   },
   "outputs": [
    {
     "name": "stdout",
     "output_type": "stream",
     "text": [
      "RMSE with dummy regressor: 8.97515792006065\n"
     ]
    }
   ],
   "source": [
    "from sklearn.dummy import DummyRegressor\n",
    "from sklearn.model_selection import train_test_split\n",
    "data_train, data_val = train_test_split(cleaned_data, test_size=0.1)\n",
    "\n",
    "baseline_model = DummyRegressor()\n",
    "baseline_model.fit(data_train.drop(columns=[\"fare_amount\"]), data_train[\"fare_amount\"])\n",
    "y_pred = baseline_model.predict(data_val.drop(columns=[\"fare_amount\"]))\n",
    "y_true = data_val[\"fare_amount\"]\n",
    "baseline_rmse = compute_rmse(y_pred, y_true)\n",
    "print(f\"RMSE with dummy regressor: {baseline_rmse}\")"
   ]
  },
  {
   "cell_type": "markdown",
   "metadata": {
    "heading_collapsed": true
   },
   "source": [
    "## 6. Build your first model <a id='part6'></a>"
   ]
  },
  {
   "cell_type": "markdown",
   "metadata": {
    "hidden": true
   },
   "source": [
    "Now it is time to build your model!\n",
    "\n",
    "For starters we are going to use a linear model only. We will try more sophisticated models later."
   ]
  },
  {
   "cell_type": "markdown",
   "metadata": {
    "hidden": true
   },
   "source": [
    "Here are the different steps that you have to follow:\n",
    "\n",
    "1. Split the data into two different sets (training and validation). You will be measuring the performance of your model on the validation set\n",
    "2. Make sure that you apply the data cleaning on your training set\n",
    "3. Think about the different features you want to add in your model\n",
    "4. For each of these features, make sure you apply the correct transformation so that the model can correctly learn from them (this is true for categorical variables like `hour of day` or `day of week`)\n",
    "5. Train your model"
   ]
  },
  {
   "cell_type": "markdown",
   "metadata": {
    "hidden": true
   },
   "source": [
    "##### Training/Validation Split"
   ]
  },
  {
   "cell_type": "code",
   "execution_count": 36,
   "metadata": {
    "hidden": true
   },
   "outputs": [],
   "source": [
    "# training/validation\n",
    "from sklearn.model_selection import train_test_split\n",
    "data_train, data_val = train_test_split(cleaned_data, test_size=0.1)"
   ]
  },
  {
   "cell_type": "markdown",
   "metadata": {
    "hidden": true
   },
   "source": [
    "##### Apply data cleaning on training set"
   ]
  },
  {
   "cell_type": "code",
   "execution_count": 37,
   "metadata": {
    "hidden": true
   },
   "outputs": [],
   "source": [
    "data_train = clean_data(data_train)"
   ]
  },
  {
   "cell_type": "markdown",
   "metadata": {
    "hidden": true
   },
   "source": [
    "##### List features (continuous vs categorical)"
   ]
  },
  {
   "cell_type": "code",
   "execution_count": 38,
   "metadata": {
    "hidden": true
   },
   "outputs": [],
   "source": [
    "# features\n",
    "target = \"fare_amount\"\n",
    "features = [\"distance\", \"hour\", \"weekday\", \"passenger_count\"]\n",
    "categorical_features = [\"hour\", \"weekday\", \"passenger_count\"]"
   ]
  },
  {
   "cell_type": "code",
   "execution_count": 39,
   "metadata": {
    "hidden": true
   },
   "outputs": [
    {
     "data": {
      "text/html": [
       "<div>\n",
       "<style scoped>\n",
       "    .dataframe tbody tr th:only-of-type {\n",
       "        vertical-align: middle;\n",
       "    }\n",
       "\n",
       "    .dataframe tbody tr th {\n",
       "        vertical-align: top;\n",
       "    }\n",
       "\n",
       "    .dataframe thead th {\n",
       "        text-align: right;\n",
       "    }\n",
       "</style>\n",
       "<table border=\"1\" class=\"dataframe\">\n",
       "  <thead>\n",
       "    <tr style=\"text-align: right;\">\n",
       "      <th></th>\n",
       "      <th>key</th>\n",
       "      <th>fare_amount</th>\n",
       "      <th>pickup_datetime</th>\n",
       "      <th>pickup_longitude</th>\n",
       "      <th>pickup_latitude</th>\n",
       "      <th>dropoff_longitude</th>\n",
       "      <th>dropoff_latitude</th>\n",
       "      <th>passenger_count</th>\n",
       "      <th>fare-bin</th>\n",
       "      <th>hour</th>\n",
       "      <th>weekday</th>\n",
       "      <th>month</th>\n",
       "      <th>year</th>\n",
       "      <th>distance</th>\n",
       "    </tr>\n",
       "  </thead>\n",
       "  <tbody>\n",
       "    <tr>\n",
       "      <th>689352</th>\n",
       "      <td>2011-07-26 00:57:51.0000002</td>\n",
       "      <td>18.9</td>\n",
       "      <td>2011-07-25 20:57:51-04:00</td>\n",
       "      <td>-73.999880</td>\n",
       "      <td>40.728523</td>\n",
       "      <td>-73.917838</td>\n",
       "      <td>40.767429</td>\n",
       "      <td>1</td>\n",
       "      <td>(15.0, 20.0]</td>\n",
       "      <td>20</td>\n",
       "      <td>0</td>\n",
       "      <td>7</td>\n",
       "      <td>2011</td>\n",
       "      <td>8.153565</td>\n",
       "    </tr>\n",
       "    <tr>\n",
       "      <th>868257</th>\n",
       "      <td>2010-05-22 12:01:00.000000145</td>\n",
       "      <td>4.1</td>\n",
       "      <td>2010-05-22 08:01:00-04:00</td>\n",
       "      <td>-73.959503</td>\n",
       "      <td>40.780195</td>\n",
       "      <td>-73.965387</td>\n",
       "      <td>40.774688</td>\n",
       "      <td>1</td>\n",
       "      <td>(0, 5.0]</td>\n",
       "      <td>8</td>\n",
       "      <td>5</td>\n",
       "      <td>5</td>\n",
       "      <td>2010</td>\n",
       "      <td>0.787682</td>\n",
       "    </tr>\n",
       "    <tr>\n",
       "      <th>57860</th>\n",
       "      <td>2011-12-11 10:48:48.0000002</td>\n",
       "      <td>8.5</td>\n",
       "      <td>2011-12-11 05:48:48-05:00</td>\n",
       "      <td>-73.954800</td>\n",
       "      <td>40.777800</td>\n",
       "      <td>-73.975100</td>\n",
       "      <td>40.752200</td>\n",
       "      <td>2</td>\n",
       "      <td>(5.0, 10.0]</td>\n",
       "      <td>5</td>\n",
       "      <td>6</td>\n",
       "      <td>12</td>\n",
       "      <td>2011</td>\n",
       "      <td>3.320535</td>\n",
       "    </tr>\n",
       "    <tr>\n",
       "      <th>164584</th>\n",
       "      <td>2014-11-16 15:49:00.00000062</td>\n",
       "      <td>14.0</td>\n",
       "      <td>2014-11-16 10:49:00-05:00</td>\n",
       "      <td>-73.990542</td>\n",
       "      <td>40.750900</td>\n",
       "      <td>-73.970188</td>\n",
       "      <td>40.752152</td>\n",
       "      <td>1</td>\n",
       "      <td>(10.0, 15.0]</td>\n",
       "      <td>10</td>\n",
       "      <td>6</td>\n",
       "      <td>11</td>\n",
       "      <td>2014</td>\n",
       "      <td>1.720173</td>\n",
       "    </tr>\n",
       "    <tr>\n",
       "      <th>307438</th>\n",
       "      <td>2011-09-01 17:07:00.00000094</td>\n",
       "      <td>6.1</td>\n",
       "      <td>2011-09-01 13:07:00-04:00</td>\n",
       "      <td>-73.950610</td>\n",
       "      <td>40.786408</td>\n",
       "      <td>-73.959037</td>\n",
       "      <td>40.769335</td>\n",
       "      <td>1</td>\n",
       "      <td>(5.0, 10.0]</td>\n",
       "      <td>13</td>\n",
       "      <td>3</td>\n",
       "      <td>9</td>\n",
       "      <td>2011</td>\n",
       "      <td>2.026707</td>\n",
       "    </tr>\n",
       "  </tbody>\n",
       "</table>\n",
       "</div>"
      ],
      "text/plain": [
       "                                  key  fare_amount           pickup_datetime  \\\n",
       "689352    2011-07-26 00:57:51.0000002         18.9 2011-07-25 20:57:51-04:00   \n",
       "868257  2010-05-22 12:01:00.000000145          4.1 2010-05-22 08:01:00-04:00   \n",
       "57860     2011-12-11 10:48:48.0000002          8.5 2011-12-11 05:48:48-05:00   \n",
       "164584   2014-11-16 15:49:00.00000062         14.0 2014-11-16 10:49:00-05:00   \n",
       "307438   2011-09-01 17:07:00.00000094          6.1 2011-09-01 13:07:00-04:00   \n",
       "\n",
       "        pickup_longitude  pickup_latitude  dropoff_longitude  \\\n",
       "689352        -73.999880        40.728523         -73.917838   \n",
       "868257        -73.959503        40.780195         -73.965387   \n",
       "57860         -73.954800        40.777800         -73.975100   \n",
       "164584        -73.990542        40.750900         -73.970188   \n",
       "307438        -73.950610        40.786408         -73.959037   \n",
       "\n",
       "        dropoff_latitude  passenger_count      fare-bin  hour  weekday  month  \\\n",
       "689352         40.767429                1  (15.0, 20.0]    20        0      7   \n",
       "868257         40.774688                1      (0, 5.0]     8        5      5   \n",
       "57860          40.752200                2   (5.0, 10.0]     5        6     12   \n",
       "164584         40.752152                1  (10.0, 15.0]    10        6     11   \n",
       "307438         40.769335                1   (5.0, 10.0]    13        3      9   \n",
       "\n",
       "        year  distance  \n",
       "689352  2011  8.153565  \n",
       "868257  2010  0.787682  \n",
       "57860   2011  3.320535  \n",
       "164584  2014  1.720173  \n",
       "307438  2011  2.026707  "
      ]
     },
     "execution_count": 39,
     "metadata": {},
     "output_type": "execute_result"
    }
   ],
   "source": [
    "data_train.head()"
   ]
  },
  {
   "cell_type": "markdown",
   "metadata": {
    "hidden": true
   },
   "source": [
    "##### Features transformation\n",
    "\n",
    "- Write a method `def transform_features(df, **kwargs)` because you will have to make sure that you apply the same transformations on the validation (or test set) before making predictions\n",
    "- For categorical features transformation, you can use `pandas.get_dummies` method"
   ]
  },
  {
   "cell_type": "code",
   "execution_count": 40,
   "metadata": {
    "hidden": true
   },
   "outputs": [],
   "source": [
    "def transform_features(_df, dummy_features):\n",
    "\n",
    "    _df = pd.get_dummies(_df, columns=dummy_features)\n",
    "    return _df\n"
   ]
  },
  {
   "cell_type": "markdown",
   "metadata": {
    "hidden": true
   },
   "source": [
    "##### Model training"
   ]
  },
  {
   "cell_type": "code",
   "execution_count": 41,
   "metadata": {
    "hidden": true
   },
   "outputs": [
    {
     "data": {
      "text/html": [
       "<style>#sk-container-id-1 {color: black;background-color: white;}#sk-container-id-1 pre{padding: 0;}#sk-container-id-1 div.sk-toggleable {background-color: white;}#sk-container-id-1 label.sk-toggleable__label {cursor: pointer;display: block;width: 100%;margin-bottom: 0;padding: 0.3em;box-sizing: border-box;text-align: center;}#sk-container-id-1 label.sk-toggleable__label-arrow:before {content: \"▸\";float: left;margin-right: 0.25em;color: #696969;}#sk-container-id-1 label.sk-toggleable__label-arrow:hover:before {color: black;}#sk-container-id-1 div.sk-estimator:hover label.sk-toggleable__label-arrow:before {color: black;}#sk-container-id-1 div.sk-toggleable__content {max-height: 0;max-width: 0;overflow: hidden;text-align: left;background-color: #f0f8ff;}#sk-container-id-1 div.sk-toggleable__content pre {margin: 0.2em;color: black;border-radius: 0.25em;background-color: #f0f8ff;}#sk-container-id-1 input.sk-toggleable__control:checked~div.sk-toggleable__content {max-height: 200px;max-width: 100%;overflow: auto;}#sk-container-id-1 input.sk-toggleable__control:checked~label.sk-toggleable__label-arrow:before {content: \"▾\";}#sk-container-id-1 div.sk-estimator input.sk-toggleable__control:checked~label.sk-toggleable__label {background-color: #d4ebff;}#sk-container-id-1 div.sk-label input.sk-toggleable__control:checked~label.sk-toggleable__label {background-color: #d4ebff;}#sk-container-id-1 input.sk-hidden--visually {border: 0;clip: rect(1px 1px 1px 1px);clip: rect(1px, 1px, 1px, 1px);height: 1px;margin: -1px;overflow: hidden;padding: 0;position: absolute;width: 1px;}#sk-container-id-1 div.sk-estimator {font-family: monospace;background-color: #f0f8ff;border: 1px dotted black;border-radius: 0.25em;box-sizing: border-box;margin-bottom: 0.5em;}#sk-container-id-1 div.sk-estimator:hover {background-color: #d4ebff;}#sk-container-id-1 div.sk-parallel-item::after {content: \"\";width: 100%;border-bottom: 1px solid gray;flex-grow: 1;}#sk-container-id-1 div.sk-label:hover label.sk-toggleable__label {background-color: #d4ebff;}#sk-container-id-1 div.sk-serial::before {content: \"\";position: absolute;border-left: 1px solid gray;box-sizing: border-box;top: 0;bottom: 0;left: 50%;z-index: 0;}#sk-container-id-1 div.sk-serial {display: flex;flex-direction: column;align-items: center;background-color: white;padding-right: 0.2em;padding-left: 0.2em;position: relative;}#sk-container-id-1 div.sk-item {position: relative;z-index: 1;}#sk-container-id-1 div.sk-parallel {display: flex;align-items: stretch;justify-content: center;background-color: white;position: relative;}#sk-container-id-1 div.sk-item::before, #sk-container-id-1 div.sk-parallel-item::before {content: \"\";position: absolute;border-left: 1px solid gray;box-sizing: border-box;top: 0;bottom: 0;left: 50%;z-index: -1;}#sk-container-id-1 div.sk-parallel-item {display: flex;flex-direction: column;z-index: 1;position: relative;background-color: white;}#sk-container-id-1 div.sk-parallel-item:first-child::after {align-self: flex-end;width: 50%;}#sk-container-id-1 div.sk-parallel-item:last-child::after {align-self: flex-start;width: 50%;}#sk-container-id-1 div.sk-parallel-item:only-child::after {width: 0;}#sk-container-id-1 div.sk-dashed-wrapped {border: 1px dashed gray;margin: 0 0.4em 0.5em 0.4em;box-sizing: border-box;padding-bottom: 0.4em;background-color: white;}#sk-container-id-1 div.sk-label label {font-family: monospace;font-weight: bold;display: inline-block;line-height: 1.2em;}#sk-container-id-1 div.sk-label-container {text-align: center;}#sk-container-id-1 div.sk-container {/* jupyter's `normalize.less` sets `[hidden] { display: none; }` but bootstrap.min.css set `[hidden] { display: none !important; }` so we also need the `!important` here to be able to override the default hidden behavior on the sphinx rendered scikit-learn.org. See: https://github.com/scikit-learn/scikit-learn/issues/21755 */display: inline-block !important;position: relative;}#sk-container-id-1 div.sk-text-repr-fallback {display: none;}</style><div id=\"sk-container-id-1\" class=\"sk-top-container\"><div class=\"sk-text-repr-fallback\"><pre>LassoCV(cv=5, n_alphas=5)</pre><b>In a Jupyter environment, please rerun this cell to show the HTML representation or trust the notebook. <br />On GitHub, the HTML representation is unable to render, please try loading this page with nbviewer.org.</b></div><div class=\"sk-container\" hidden><div class=\"sk-item\"><div class=\"sk-estimator sk-toggleable\"><input class=\"sk-toggleable__control sk-hidden--visually\" id=\"sk-estimator-id-1\" type=\"checkbox\" checked><label for=\"sk-estimator-id-1\" class=\"sk-toggleable__label sk-toggleable__label-arrow\">LassoCV</label><div class=\"sk-toggleable__content\"><pre>LassoCV(cv=5, n_alphas=5)</pre></div></div></div></div></div>"
      ],
      "text/plain": [
       "LassoCV(cv=5, n_alphas=5)"
      ]
     },
     "execution_count": 41,
     "metadata": {},
     "output_type": "execute_result"
    }
   ],
   "source": [
    "# model training\n",
    "from sklearn.linear_model import LassoCV\n",
    "model = LassoCV(cv=5, n_alphas=5)\n",
    "X_train = transform_features(data_train[features], dummy_features=categorical_features)\n",
    "y_train = data_train.fare_amount\n",
    "model.fit(X_train, y_train)"
   ]
  },
  {
   "cell_type": "markdown",
   "metadata": {
    "heading_collapsed": true
   },
   "source": [
    "## 7. Model evaluation <a id='part7'></a>"
   ]
  },
  {
   "cell_type": "markdown",
   "metadata": {
    "hidden": true
   },
   "source": [
    "Now in order to evaluate your model, you need to use your previously trained model in order to make predictions on the validation set.\n",
    "\n",
    "For this, follow these steps:\n",
    "1. Apply the same transformations on the validation set\n",
    "2. Make predictions\n",
    "3. Evaluate predictions using `compute_rmse` method"
   ]
  },
  {
   "cell_type": "code",
   "execution_count": 42,
   "metadata": {
    "hidden": true
   },
   "outputs": [
    {
     "name": "stdout",
     "output_type": "stream",
     "text": [
      "RMSE: 4.373842537373635\n",
      "RMSE obtained with baseline model: 8.97515792006065\n"
     ]
    }
   ],
   "source": [
    "X_val = transform_features(data_val[features], dummy_features=categorical_features)\n",
    "data_val[\"y_pred\"] = model.predict(X_val)\n",
    "rmse = compute_rmse(data_val.y_pred, data_val.fare_amount)\n",
    "print(f\"RMSE: {rmse}\")\n",
    "print(f\"RMSE obtained with baseline model: {baseline_rmse}\")"
   ]
  },
  {
   "cell_type": "code",
   "execution_count": 43,
   "metadata": {},
   "outputs": [
    {
     "name": "stdout",
     "output_type": "stream",
     "text": [
      "Without features engineering: \n",
      "RMSE: 4.362890971363683\n",
      "RMSE obtained with baseline model: 8.97515792006065\n"
     ]
    }
   ],
   "source": [
    "# Juste pour comparer les résultats, refaisons la même chose sans toucher aux features :\n",
    "\n",
    "model = LassoCV(cv=5, n_alphas=5)\n",
    "X_train = data_train[features]\n",
    "y_train = data_train.fare_amount\n",
    "model.fit(X_train, y_train)\n",
    "\n",
    "X_val = data_val[features]\n",
    "data_val[\"y_pred\"] = model.predict(X_val)\n",
    "rmse = compute_rmse(data_val.y_pred, data_val.fare_amount)\n",
    "print(\"Without features engineering: \")\n",
    "print(f\"RMSE: {rmse}\")\n",
    "print(f\"RMSE obtained with baseline model: {baseline_rmse}\")"
   ]
  },
  {
   "cell_type": "markdown",
   "metadata": {},
   "source": [
    "On constate que les performances sont quasiment identiques, avec ou sans features engineering."
   ]
  },
  {
   "cell_type": "markdown",
   "metadata": {
    "heading_collapsed": true
   },
   "source": [
    "## 8. Kaggle submission <a id='part8'></a>"
   ]
  },
  {
   "cell_type": "markdown",
   "metadata": {
    "hidden": true
   },
   "source": [
    "Now that you have a model, you can now make predictions on Kaggle test set and be evaluated by Kaggle directly.\n",
    "\n",
    "- Download the test data from Kaggle\n",
    "- Follow the [instructions](https://www.kaggle.com/c/new-york-city-taxi-fare-prediction/overview/evaluation) to make sure that your predictions are in the right format\n",
    "- Re-train your model using all the data (do not split with train/validation)\n",
    "- Apply the feature engineering and transformation methods on the test set\n",
    "- Use the model to make predictions on the test set\n",
    "- Submit your predictions!"
   ]
  },
  {
   "cell_type": "code",
   "execution_count": 44,
   "metadata": {
    "hidden": true
   },
   "outputs": [
    {
     "data": {
      "text/html": [
       "<style>#sk-container-id-2 {color: black;background-color: white;}#sk-container-id-2 pre{padding: 0;}#sk-container-id-2 div.sk-toggleable {background-color: white;}#sk-container-id-2 label.sk-toggleable__label {cursor: pointer;display: block;width: 100%;margin-bottom: 0;padding: 0.3em;box-sizing: border-box;text-align: center;}#sk-container-id-2 label.sk-toggleable__label-arrow:before {content: \"▸\";float: left;margin-right: 0.25em;color: #696969;}#sk-container-id-2 label.sk-toggleable__label-arrow:hover:before {color: black;}#sk-container-id-2 div.sk-estimator:hover label.sk-toggleable__label-arrow:before {color: black;}#sk-container-id-2 div.sk-toggleable__content {max-height: 0;max-width: 0;overflow: hidden;text-align: left;background-color: #f0f8ff;}#sk-container-id-2 div.sk-toggleable__content pre {margin: 0.2em;color: black;border-radius: 0.25em;background-color: #f0f8ff;}#sk-container-id-2 input.sk-toggleable__control:checked~div.sk-toggleable__content {max-height: 200px;max-width: 100%;overflow: auto;}#sk-container-id-2 input.sk-toggleable__control:checked~label.sk-toggleable__label-arrow:before {content: \"▾\";}#sk-container-id-2 div.sk-estimator input.sk-toggleable__control:checked~label.sk-toggleable__label {background-color: #d4ebff;}#sk-container-id-2 div.sk-label input.sk-toggleable__control:checked~label.sk-toggleable__label {background-color: #d4ebff;}#sk-container-id-2 input.sk-hidden--visually {border: 0;clip: rect(1px 1px 1px 1px);clip: rect(1px, 1px, 1px, 1px);height: 1px;margin: -1px;overflow: hidden;padding: 0;position: absolute;width: 1px;}#sk-container-id-2 div.sk-estimator {font-family: monospace;background-color: #f0f8ff;border: 1px dotted black;border-radius: 0.25em;box-sizing: border-box;margin-bottom: 0.5em;}#sk-container-id-2 div.sk-estimator:hover {background-color: #d4ebff;}#sk-container-id-2 div.sk-parallel-item::after {content: \"\";width: 100%;border-bottom: 1px solid gray;flex-grow: 1;}#sk-container-id-2 div.sk-label:hover label.sk-toggleable__label {background-color: #d4ebff;}#sk-container-id-2 div.sk-serial::before {content: \"\";position: absolute;border-left: 1px solid gray;box-sizing: border-box;top: 0;bottom: 0;left: 50%;z-index: 0;}#sk-container-id-2 div.sk-serial {display: flex;flex-direction: column;align-items: center;background-color: white;padding-right: 0.2em;padding-left: 0.2em;position: relative;}#sk-container-id-2 div.sk-item {position: relative;z-index: 1;}#sk-container-id-2 div.sk-parallel {display: flex;align-items: stretch;justify-content: center;background-color: white;position: relative;}#sk-container-id-2 div.sk-item::before, #sk-container-id-2 div.sk-parallel-item::before {content: \"\";position: absolute;border-left: 1px solid gray;box-sizing: border-box;top: 0;bottom: 0;left: 50%;z-index: -1;}#sk-container-id-2 div.sk-parallel-item {display: flex;flex-direction: column;z-index: 1;position: relative;background-color: white;}#sk-container-id-2 div.sk-parallel-item:first-child::after {align-self: flex-end;width: 50%;}#sk-container-id-2 div.sk-parallel-item:last-child::after {align-self: flex-start;width: 50%;}#sk-container-id-2 div.sk-parallel-item:only-child::after {width: 0;}#sk-container-id-2 div.sk-dashed-wrapped {border: 1px dashed gray;margin: 0 0.4em 0.5em 0.4em;box-sizing: border-box;padding-bottom: 0.4em;background-color: white;}#sk-container-id-2 div.sk-label label {font-family: monospace;font-weight: bold;display: inline-block;line-height: 1.2em;}#sk-container-id-2 div.sk-label-container {text-align: center;}#sk-container-id-2 div.sk-container {/* jupyter's `normalize.less` sets `[hidden] { display: none; }` but bootstrap.min.css set `[hidden] { display: none !important; }` so we also need the `!important` here to be able to override the default hidden behavior on the sphinx rendered scikit-learn.org. See: https://github.com/scikit-learn/scikit-learn/issues/21755 */display: inline-block !important;position: relative;}#sk-container-id-2 div.sk-text-repr-fallback {display: none;}</style><div id=\"sk-container-id-2\" class=\"sk-top-container\"><div class=\"sk-text-repr-fallback\"><pre>Lasso(alpha=5)</pre><b>In a Jupyter environment, please rerun this cell to show the HTML representation or trust the notebook. <br />On GitHub, the HTML representation is unable to render, please try loading this page with nbviewer.org.</b></div><div class=\"sk-container\" hidden><div class=\"sk-item\"><div class=\"sk-estimator sk-toggleable\"><input class=\"sk-toggleable__control sk-hidden--visually\" id=\"sk-estimator-id-2\" type=\"checkbox\" checked><label for=\"sk-estimator-id-2\" class=\"sk-toggleable__label sk-toggleable__label-arrow\">Lasso</label><div class=\"sk-toggleable__content\"><pre>Lasso(alpha=5)</pre></div></div></div></div></div>"
      ],
      "text/plain": [
       "Lasso(alpha=5)"
      ]
     },
     "execution_count": 44,
     "metadata": {},
     "output_type": "execute_result"
    }
   ],
   "source": [
    "# Re-train the model with all the data\n",
    "X = cleaned_data[features]\n",
    "y = cleaned_data.fare_amount\n",
    "\n",
    "from sklearn.linear_model import Lasso\n",
    "\n",
    "lasso = Lasso(alpha=5)\n",
    "lasso.fit(X,y)"
   ]
  },
  {
   "cell_type": "code",
   "execution_count": 45,
   "metadata": {
    "hidden": true
   },
   "outputs": [
    {
     "name": "stdout",
     "output_type": "stream",
     "text": [
      "                              key          pickup_datetime  pickup_longitude  \\\n",
      "0     2015-01-27 13:08:24.0000002  2015-01-27 13:08:24 UTC        -73.973320   \n",
      "1     2015-01-27 13:08:24.0000003  2015-01-27 13:08:24 UTC        -73.986862   \n",
      "2     2011-10-08 11:53:44.0000002  2011-10-08 11:53:44 UTC        -73.982524   \n",
      "3     2012-12-01 21:12:12.0000002  2012-12-01 21:12:12 UTC        -73.981160   \n",
      "4     2012-12-01 21:12:12.0000003  2012-12-01 21:12:12 UTC        -73.966046   \n",
      "...                           ...                      ...               ...   \n",
      "9909  2015-05-10 12:37:51.0000002  2015-05-10 12:37:51 UTC        -73.968124   \n",
      "9910  2015-01-12 17:05:51.0000001  2015-01-12 17:05:51 UTC        -73.945511   \n",
      "9911  2015-04-19 20:44:15.0000001  2015-04-19 20:44:15 UTC        -73.991600   \n",
      "9912  2015-01-31 01:05:19.0000005  2015-01-31 01:05:19 UTC        -73.985573   \n",
      "9913  2015-01-18 14:06:23.0000006  2015-01-18 14:06:23 UTC        -73.988022   \n",
      "\n",
      "      pickup_latitude  dropoff_longitude  dropoff_latitude  passenger_count  \n",
      "0           40.763805         -73.981430         40.743835                1  \n",
      "1           40.719383         -73.998886         40.739201                1  \n",
      "2           40.751260         -73.979654         40.746139                1  \n",
      "3           40.767807         -73.990448         40.751635                1  \n",
      "4           40.789775         -73.988565         40.744427                1  \n",
      "...               ...                ...               ...              ...  \n",
      "9909        40.796997         -73.955643         40.780388                6  \n",
      "9910        40.803600         -73.960213         40.776371                6  \n",
      "9911        40.726608         -73.789742         40.647011                6  \n",
      "9912        40.735432         -73.939178         40.801731                6  \n",
      "9913        40.754070         -74.000282         40.759220                6  \n",
      "\n",
      "[9914 rows x 7 columns]\n"
     ]
    }
   ],
   "source": [
    "# load Kaggle's test set\n",
    "data_test = pd.read_csv(\"./data/test.csv\")\n",
    "print(data_test)"
   ]
  },
  {
   "cell_type": "code",
   "execution_count": 46,
   "metadata": {
    "hidden": true
   },
   "outputs": [
    {
     "name": "stdout",
     "output_type": "stream",
     "text": [
      "      distance  hour  weekday  passenger_count\n",
      "0     2.220559     8        1                1\n",
      "1     2.203592     8        1                1\n",
      "2     0.569430     7        5                1\n",
      "3     1.798247    16        5                1\n",
      "4     5.042474    16        5                1\n",
      "...        ...   ...      ...              ...\n",
      "9909  1.846860     8        6                6\n",
      "9910  3.027765    12        0                6\n",
      "9911  8.850847    16        6                6\n",
      "9912  7.372171    20        4                6\n",
      "9913  0.572637     9        6                6\n",
      "\n",
      "[9914 rows x 4 columns]\n"
     ]
    }
   ],
   "source": [
    "# feature engineering\n",
    "data_test= haversine_distance(data_test, \n",
    "                                         start_lat=\"pickup_latitude\", start_lon=\"pickup_longitude\",\n",
    "                                         end_lat=\"dropoff_latitude\", end_lon=\"pickup_longitude\")\n",
    "data_test = extract_time_features(data_test)\n",
    "X_test = data_test[features]\n",
    "print(X_test)\n",
    "#X_test = transform_features(data_test, dummy_features=categorical_features) \n",
    "\n",
    "# prediction\n",
    "data_test[\"y_pred\"] = lasso.predict(X_test)"
   ]
  },
  {
   "cell_type": "code",
   "execution_count": 47,
   "metadata": {
    "hidden": true
   },
   "outputs": [
    {
     "data": {
      "text/html": [
       "<div>\n",
       "<style scoped>\n",
       "    .dataframe tbody tr th:only-of-type {\n",
       "        vertical-align: middle;\n",
       "    }\n",
       "\n",
       "    .dataframe tbody tr th {\n",
       "        vertical-align: top;\n",
       "    }\n",
       "\n",
       "    .dataframe thead th {\n",
       "        text-align: right;\n",
       "    }\n",
       "</style>\n",
       "<table border=\"1\" class=\"dataframe\">\n",
       "  <thead>\n",
       "    <tr style=\"text-align: right;\">\n",
       "      <th></th>\n",
       "      <th>key</th>\n",
       "      <th>pickup_datetime</th>\n",
       "      <th>pickup_longitude</th>\n",
       "      <th>pickup_latitude</th>\n",
       "      <th>dropoff_longitude</th>\n",
       "      <th>dropoff_latitude</th>\n",
       "      <th>passenger_count</th>\n",
       "      <th>distance</th>\n",
       "      <th>hour</th>\n",
       "      <th>weekday</th>\n",
       "      <th>month</th>\n",
       "      <th>year</th>\n",
       "      <th>y_pred</th>\n",
       "    </tr>\n",
       "  </thead>\n",
       "  <tbody>\n",
       "    <tr>\n",
       "      <th>0</th>\n",
       "      <td>2015-01-27 13:08:24.0000002</td>\n",
       "      <td>2015-01-27 08:08:24-05:00</td>\n",
       "      <td>-73.97332</td>\n",
       "      <td>40.763805</td>\n",
       "      <td>-73.98143</td>\n",
       "      <td>40.743835</td>\n",
       "      <td>1</td>\n",
       "      <td>2.220559</td>\n",
       "      <td>8</td>\n",
       "      <td>1</td>\n",
       "      <td>1</td>\n",
       "      <td>2015</td>\n",
       "      <td>9.267417</td>\n",
       "    </tr>\n",
       "  </tbody>\n",
       "</table>\n",
       "</div>"
      ],
      "text/plain": [
       "                           key           pickup_datetime  pickup_longitude  \\\n",
       "0  2015-01-27 13:08:24.0000002 2015-01-27 08:08:24-05:00         -73.97332   \n",
       "\n",
       "   pickup_latitude  dropoff_longitude  dropoff_latitude  passenger_count  \\\n",
       "0        40.763805          -73.98143         40.743835                1   \n",
       "\n",
       "   distance  hour  weekday  month  year    y_pred  \n",
       "0  2.220559     8        1      1  2015  9.267417  "
      ]
     },
     "execution_count": 47,
     "metadata": {},
     "output_type": "execute_result"
    }
   ],
   "source": [
    "data_test.head(1)"
   ]
  },
  {
   "cell_type": "code",
   "execution_count": 48,
   "metadata": {
    "hidden": true
   },
   "outputs": [],
   "source": [
    "data_test.reset_index(drop=True)[[\"key\", \"y_pred\"]].rename(columns={\"y_pred\": \"fare_amount\"}).to_csv(\"lasso_v0_predictions.csv\", index=False)"
   ]
  },
  {
   "cell_type": "markdown",
   "metadata": {},
   "source": [
    "## 9. [OPTIONAL] Push further Feature Engineering <a id='part9'></a>"
   ]
  },
  {
   "cell_type": "markdown",
   "metadata": {},
   "source": [
    "You can improve your model by trying different things (But do not worry, some of these things will be covered during the next days).\n",
    "- Use more data to train\n",
    "- Build and add more features\n",
    "- Try different estimators\n",
    "- Adjust your data cleaning to remove more or less data\n",
    "- Tune the hyperparameters of your model"
   ]
  },
  {
   "cell_type": "markdown",
   "metadata": {},
   "source": [
    "In the following section we will focus on advanced feature engineering (keep in mind that relevant feateng is often key to significant increase in model performances):\n",
    "\n",
    "👉 **Manhattan distance** better suited to our problem  \n",
    "👉 **Distance to NYC center** to highlight interesting pattern...\n",
    "👉 **Direction**"
   ]
  },
  {
   "cell_type": "markdown",
   "metadata": {},
   "source": [
    "###### Another Distance ?\n",
    "- Think about the distance you used, try and find a more adapted distance for our problem (ask TAs for insights)"
   ]
  },
  {
   "cell_type": "markdown",
   "metadata": {},
   "source": [
    "$$D(A,B) = \\left( \\sum_{i=1}^{n} \\lvert x_{A_i} - x_{B_i} \\rvert ^p \\right)^\\frac{1}{p}$$\n",
    "with $A=(x_{A_1}, x_{A_2}, ..., x_{A_n})$ and $B=(x_{B_1}, x_{B_2}, ..., x_{B_n})$"
   ]
  },
  {
   "cell_type": "code",
   "execution_count": 49,
   "metadata": {},
   "outputs": [
    {
     "ename": "SyntaxError",
     "evalue": "incomplete input (1258124151.py, line 5)",
     "output_type": "error",
     "traceback": [
      "\u001b[0;36m  File \u001b[0;32m\"/tmp/ipykernel_20317/1258124151.py\"\u001b[0;36m, line \u001b[0;32m5\u001b[0m\n\u001b[0;31m    \u001b[0m\n\u001b[0m    ^\u001b[0m\n\u001b[0;31mSyntaxError\u001b[0m\u001b[0;31m:\u001b[0m incomplete input\n"
     ]
    }
   ],
   "source": [
    "# the Minkowski Distance is actually the generic distance to compute different distances\n",
    "\n",
    "# in a cartesion system of reference of 2 dimensions (x,y), the Minkowski distance can be implemented as follow:\n",
    "def minkowski_distance(x1, x2, y1, y2, p):\n",
    "\n",
    "   "
   ]
  },
  {
   "cell_type": "code",
   "execution_count": null,
   "metadata": {},
   "outputs": [],
   "source": [
    "# in a GPS coordinates system, the Minkowksi distance should be implented as follows:\n",
    "# convert degrees to radians\n",
    "def deg2rad(coordinate):\n",
    "    return \n",
    "\n",
    "# convert radians into distance\n",
    "def rad2dist(coordinate):\n",
    "   \n",
    "    return \n",
    "\n",
    "# correct the longitude distance regarding the latitude (https://jonisalonen.com/2014/computing-distance-between-coordinates-can-be-simple-and-fast/)\n",
    "def lng_dist_corrected(lng_dist, lat):\n",
    "    return \n",
    "\n",
    "def minkowski_distance_gps(lat1, lat2, lon1, lon2, p):\n",
    " \n",
    "    return minkowski_distance(x1, x2, y1, y2, p)"
   ]
  },
  {
   "cell_type": "code",
   "execution_count": null,
   "metadata": {},
   "outputs": [],
   "source": [
    "# manhattan distance <=> minkowski_distance(x1, x2, y1, y2, 1)\n",
    "df['manhattan_dist'] = minkowski_distance_gps(df['pickup_latitude'], df['dropoff_latitude'],\n",
    "                                              df['pickup_longitude'], df['dropoff_longitude'], 1)"
   ]
  },
  {
   "cell_type": "code",
   "execution_count": null,
   "metadata": {},
   "outputs": [],
   "source": [
    "# euclidian distance <=> minkowski_distance(x1, x2, y1, y2, 2)\n",
    "df['euclidian_dist'] = minkowski_distance_gps(df['pickup_latitude'], df['dropoff_latitude'],\n",
    "                                              df['pickup_longitude'], df['dropoff_longitude'], 2)"
   ]
  },
  {
   "cell_type": "code",
   "execution_count": null,
   "metadata": {},
   "outputs": [],
   "source": [
    "df.head()"
   ]
  },
  {
   "cell_type": "markdown",
   "metadata": {},
   "source": [
    "###### Distance from the center \n",
    "\n",
    "- Compute a new feature calculating the distance of pickup location from the center\n",
    "- Scatter Plot *distance_from_center* regarding *distance* \n",
    "- What do you observe ? What new features could you add ? How are these new features correlated to the target ?"
   ]
  },
  {
   "cell_type": "code",
   "execution_count": null,
   "metadata": {},
   "outputs": [],
   "source": [
    "# let's compute the distance from the NYC center\n",
    "# A COMPLETER\n",
    "\n",
    "df['distance_to_center'] = haversine_distance(df, **args)"
   ]
  },
  {
   "cell_type": "code",
   "execution_count": null,
   "metadata": {},
   "outputs": [],
   "source": [
    "idx = (df.distance < 40) & (df.distance_to_center < 40)\n",
    "sns.scatterplot(x=\"distance_to_center\", y=\"distance\", data=df[idx].sample(10000), hue=\"fare-bin\")\n",
    "plt.legend(bbox_to_anchor=(1.05, 1), loc=2, borderaxespad=0.)\n",
    "\n",
    "plt.show()"
   ]
  },
  {
   "cell_type": "code",
   "execution_count": null,
   "metadata": {},
   "outputs": [],
   "source": [
    "df.distance_to_center.hist(bins=100)"
   ]
  },
  {
   "cell_type": "markdown",
   "metadata": {},
   "source": [
    "👉 **Take some time to step back and try to observe an interesting pattern here. What are these clusters with a similar distance to the center?**"
   ]
  },
  {
   "cell_type": "code",
   "execution_count": null,
   "metadata": {},
   "outputs": [],
   "source": [
    "# seems to be fixed distance_to_center\n"
   ]
  },
  {
   "cell_type": "code",
   "execution_count": null,
   "metadata": {},
   "outputs": [],
   "source": [
    "df.pickup_distance_to_jfk.hist(bins=100)"
   ]
  },
  {
   "cell_type": "markdown",
   "metadata": {},
   "source": [
    "###### Which direction  are you heading to ?\n",
    "\n",
    "- Compute a new feature calculating the direction your are heading to\n",
    "- What do you observe ? What new features could you add ? How are these new features correlated to the target ?"
   ]
  },
  {
   "cell_type": "code",
   "execution_count": null,
   "metadata": {},
   "outputs": [],
   "source": [
    "def calculate_direction(d_lon, d_lat):\n",
    "\n",
    "    return result"
   ]
  },
  {
   "cell_type": "code",
   "execution_count": null,
   "metadata": {},
   "outputs": [],
   "source": [
    "df['delta_lon'] = df.pickup_longitude - df.dropoff_longitude\n",
    "df['delta_lat'] = df.pickup_latitude - df.dropoff_latitude\n",
    "df['direction'] = calculate_direction(df.delta_lon, df.delta_lat)"
   ]
  },
  {
   "cell_type": "code",
   "execution_count": null,
   "metadata": {},
   "outputs": [],
   "source": [
    "plt.figure(figsize=(10,6))\n",
    "df.direction.hist(bins=180)"
   ]
  },
  {
   "cell_type": "code",
   "execution_count": null,
   "metadata": {},
   "outputs": [],
   "source": [
    "# plot direction vs average fare amount for fares inside manhattan\n",
    "def select_within_boundingbox(df, BB):\n",
    "    return (df.pickup_longitude >= BB[0]) & (df.pickup_longitude <= BB[1]) & \\\n",
    "           (df.pickup_latitude >= BB[2]) & (df.pickup_latitude <= BB[3]) & \\\n",
    "           (df.dropoff_longitude >= BB[0]) & (df.dropoff_longitude <= BB[1]) & \\\n",
    "           (df.dropoff_latitude >= BB[2]) & (df.dropoff_latitude <= BB[3])\n",
    "BB_manhattan = (-74.025, -73.925, 40.7, 40.8)\n",
    "idx_manhattan = select_within_boundingbox(df, BB_manhattan)\n",
    "\n",
    "fig, ax = plt.subplots(1, 1, figsize=(14,6))\n",
    "direc = pd.cut(df[idx_manhattan]['direction'], np.linspace(-180, 180, 37))\n",
    "df[idx_manhattan].pivot_table('fare_amount', index=[direc], columns='year', aggfunc='mean').plot(ax=ax)\n",
    "plt.xlabel('direction (degrees)')\n",
    "plt.xticks(range(36), np.arange(-170, 190, 10))\n",
    "plt.ylabel('average fare amount $USD');"
   ]
  },
  {
   "cell_type": "code",
   "execution_count": null,
   "metadata": {},
   "outputs": [],
   "source": [
    "corrs = df.corr()\n",
    "l = list(corrs)\n",
    "l.remove(\"fare_amount\")\n",
    "corrs['fare_amount'][l].plot.bar(color = 'b');\n",
    "plt.title('Correlation with Fare Amount');"
   ]
  },
  {
   "cell_type": "code",
   "execution_count": null,
   "metadata": {},
   "outputs": [],
   "source": []
  }
 ],
 "metadata": {
  "challengify": {
   "keep_output": true
  },
  "kernelspec": {
   "display_name": "Python 3 (ipykernel)",
   "language": "python",
   "name": "python3"
  },
  "language_info": {
   "codemirror_mode": {
    "name": "ipython",
    "version": 3
   },
   "file_extension": ".py",
   "mimetype": "text/x-python",
   "name": "python",
   "nbconvert_exporter": "python",
   "pygments_lexer": "ipython3",
   "version": "3.10.6"
  },
  "toc": {
   "base_numbering": 1,
   "nav_menu": {},
   "number_sections": false,
   "sideBar": true,
   "skip_h1_title": false,
   "title_cell": "Table of Contents",
   "title_sidebar": "Contents",
   "toc_cell": false,
   "toc_position": {},
   "toc_section_display": true,
   "toc_window_display": true
  },
  "varInspector": {
   "cols": {
    "lenName": 16,
    "lenType": 16,
    "lenVar": 40
   },
   "kernels_config": {
    "python": {
     "delete_cmd_postfix": "",
     "delete_cmd_prefix": "del ",
     "library": "var_list.py",
     "varRefreshCmd": "print(var_dic_list())"
    },
    "r": {
     "delete_cmd_postfix": ") ",
     "delete_cmd_prefix": "rm(",
     "library": "var_list.r",
     "varRefreshCmd": "cat(var_dic_list()) "
    }
   },
   "types_to_exclude": [
    "module",
    "function",
    "builtin_function_or_method",
    "instance",
    "_Feature"
   ],
   "window_display": false
  }
 },
 "nbformat": 4,
 "nbformat_minor": 2
}
